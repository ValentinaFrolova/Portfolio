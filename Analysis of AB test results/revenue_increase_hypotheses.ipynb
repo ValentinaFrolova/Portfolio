{
 "cells": [
  {
   "cell_type": "markdown",
   "id": "d471e810-dfbc-45a5-be76-0d72bb203ee9",
   "metadata": {},
   "source": [
    "# Анализ гипотез по увеличению выручки интернет-магазина<br>\n",
    "\n",
    "**Задача:** приоретизировать гипотезы по увеличению выручки интернет-магазина, проанализировать результаты А/В-теста.<br>\n",
    "\n",
    "На первом этапе исследования выполняется приоретизация гипотез на базе соответствующего датасета, в который входят:<br>\n",
    "  * Hypothesis — краткое описание гипотезы<br>\n",
    "  * Reach — охват пользователей по 10-балльной шкале<br>\n",
    "  * Impact — влияние на пользователей по 10-балльной шкале<br>\n",
    "  * Confidence — уверенность в гипотезе по 10-балльной шкале<br>\n",
    "  * Efforts — затраты ресурсов на проверку гипотезы по 10-балльной шкале. Чем больше значение Efforts, тем дороже проверка гипотезы<br>\n",
    "\n",
    "На втором этапе проводится анализ результатов А/В-теста. Для него используются два датасета:<br>\n",
    "\n",
    "с данными о заказах:<br>\n",
    "  * transactionId — идентификатор заказа<br>\n",
    "  * visitorId — идентификатор пользователя, совершившего заказ<br>\n",
    "  * date — дата, когда был совершен заказ<br>\n",
    "  * revenue — выручка заказа<br>\n",
    "  * group — группа A/B-теста, в которую попал заказ<br>\n",
    "\n",
    "с данными о посетителях:<br>\n",
    "  * date — дата<br>\n",
    "  * group — группа A/B-теста<br>\n",
    "  * visitors — количество пользователей в указанную дату в указанной группе A/B-теста\n",
    "\n",
    "План работы:<br>\n",
    "1. [Загрузка данных](#start)<br>\n",
    "2. [Предобработка данных](#preprocessing)<br>\n",
    "3. [Приоритизация гипотез](#prioritization)<br>\n",
    "4. [Анализ результатов А/В-теста](#analysis)<br>\n",
    "5. [Выводы](#summary)"
   ]
  },
  {
   "cell_type": "code",
   "execution_count": 1,
   "id": "72576667",
   "metadata": {},
   "outputs": [],
   "source": [
    "# загрузим необходимые для работы библиотеки\n",
    "import pandas as pd\n",
    "import numpy as np\n",
    "from scipy import stats as st\n",
    "import matplotlib.pyplot as plt\n",
    "import warnings"
   ]
  },
  {
   "cell_type": "code",
   "execution_count": 2,
   "id": "04b30b82",
   "metadata": {},
   "outputs": [],
   "source": [
    "# скроем предупреждения\n",
    "warnings.filterwarnings('ignore')\n",
    "# настроим вывод чисел без научной нотации \n",
    "pd.set_option('display.float_format', lambda x: '%.2f' % x)\n",
    "# настроим вывод значений в ячейках без сокращений\n",
    "pd.set_option(\"display.max_colwidth\", None)"
   ]
  },
  {
   "cell_type": "markdown",
   "id": "c42cbe00",
   "metadata": {},
   "source": [
    "#### 1. <a id=\"start\">Загрузка данных</a>\n",
    "<br>\n",
    "Откроем файлы с данными и изучим общую информацию."
   ]
  },
  {
   "cell_type": "code",
   "execution_count": 3,
   "id": "eff9f206",
   "metadata": {
    "scrolled": true
   },
   "outputs": [
    {
     "data": {
      "text/html": [
       "<div>\n",
       "<style scoped>\n",
       "    .dataframe tbody tr th:only-of-type {\n",
       "        vertical-align: middle;\n",
       "    }\n",
       "\n",
       "    .dataframe tbody tr th {\n",
       "        vertical-align: top;\n",
       "    }\n",
       "\n",
       "    .dataframe thead th {\n",
       "        text-align: right;\n",
       "    }\n",
       "</style>\n",
       "<table border=\"1\" class=\"dataframe\">\n",
       "  <thead>\n",
       "    <tr style=\"text-align: right;\">\n",
       "      <th></th>\n",
       "      <th>Hypothesis</th>\n",
       "      <th>Reach</th>\n",
       "      <th>Impact</th>\n",
       "      <th>Confidence</th>\n",
       "      <th>Efforts</th>\n",
       "    </tr>\n",
       "  </thead>\n",
       "  <tbody>\n",
       "    <tr>\n",
       "      <th>0</th>\n",
       "      <td>Добавить два новых канала привлечения трафика, что позволит привлекать на 30% больше пользователей</td>\n",
       "      <td>3</td>\n",
       "      <td>10</td>\n",
       "      <td>8</td>\n",
       "      <td>6</td>\n",
       "    </tr>\n",
       "    <tr>\n",
       "      <th>1</th>\n",
       "      <td>Запустить собственную службу доставки, что сократит срок доставки заказов</td>\n",
       "      <td>2</td>\n",
       "      <td>5</td>\n",
       "      <td>4</td>\n",
       "      <td>10</td>\n",
       "    </tr>\n",
       "    <tr>\n",
       "      <th>2</th>\n",
       "      <td>Добавить блоки рекомендаций товаров на сайт интернет магазина, чтобы повысить конверсию и средний чек заказа</td>\n",
       "      <td>8</td>\n",
       "      <td>3</td>\n",
       "      <td>7</td>\n",
       "      <td>3</td>\n",
       "    </tr>\n",
       "    <tr>\n",
       "      <th>3</th>\n",
       "      <td>Изменить структура категорий, что увеличит конверсию, т.к. пользователи быстрее найдут нужный товар</td>\n",
       "      <td>8</td>\n",
       "      <td>3</td>\n",
       "      <td>3</td>\n",
       "      <td>8</td>\n",
       "    </tr>\n",
       "    <tr>\n",
       "      <th>4</th>\n",
       "      <td>Изменить цвет фона главной страницы, чтобы увеличить вовлеченность пользователей</td>\n",
       "      <td>3</td>\n",
       "      <td>1</td>\n",
       "      <td>1</td>\n",
       "      <td>1</td>\n",
       "    </tr>\n",
       "  </tbody>\n",
       "</table>\n",
       "</div>"
      ],
      "text/plain": [
       "                                                                                                     Hypothesis  \\\n",
       "0            Добавить два новых канала привлечения трафика, что позволит привлекать на 30% больше пользователей   \n",
       "1                                     Запустить собственную службу доставки, что сократит срок доставки заказов   \n",
       "2  Добавить блоки рекомендаций товаров на сайт интернет магазина, чтобы повысить конверсию и средний чек заказа   \n",
       "3           Изменить структура категорий, что увеличит конверсию, т.к. пользователи быстрее найдут нужный товар   \n",
       "4                              Изменить цвет фона главной страницы, чтобы увеличить вовлеченность пользователей   \n",
       "\n",
       "   Reach  Impact  Confidence  Efforts  \n",
       "0      3      10           8        6  \n",
       "1      2       5           4       10  \n",
       "2      8       3           7        3  \n",
       "3      8       3           3        8  \n",
       "4      3       1           1        1  "
      ]
     },
     "metadata": {},
     "output_type": "display_data"
    },
    {
     "name": "stdout",
     "output_type": "stream",
     "text": [
      "<class 'pandas.core.frame.DataFrame'>\n",
      "RangeIndex: 9 entries, 0 to 8\n",
      "Data columns (total 5 columns):\n",
      " #   Column      Non-Null Count  Dtype \n",
      "---  ------      --------------  ----- \n",
      " 0   Hypothesis  9 non-null      object\n",
      " 1   Reach       9 non-null      int64 \n",
      " 2   Impact      9 non-null      int64 \n",
      " 3   Confidence  9 non-null      int64 \n",
      " 4   Efforts     9 non-null      int64 \n",
      "dtypes: int64(4), object(1)\n",
      "memory usage: 488.0+ bytes\n",
      "None\n"
     ]
    },
    {
     "data": {
      "text/html": [
       "<div>\n",
       "<style scoped>\n",
       "    .dataframe tbody tr th:only-of-type {\n",
       "        vertical-align: middle;\n",
       "    }\n",
       "\n",
       "    .dataframe tbody tr th {\n",
       "        vertical-align: top;\n",
       "    }\n",
       "\n",
       "    .dataframe thead th {\n",
       "        text-align: right;\n",
       "    }\n",
       "</style>\n",
       "<table border=\"1\" class=\"dataframe\">\n",
       "  <thead>\n",
       "    <tr style=\"text-align: right;\">\n",
       "      <th></th>\n",
       "      <th>transactionId</th>\n",
       "      <th>visitorId</th>\n",
       "      <th>date</th>\n",
       "      <th>revenue</th>\n",
       "      <th>group</th>\n",
       "    </tr>\n",
       "  </thead>\n",
       "  <tbody>\n",
       "    <tr>\n",
       "      <th>0</th>\n",
       "      <td>3667963787</td>\n",
       "      <td>3312258926</td>\n",
       "      <td>2019-08-15</td>\n",
       "      <td>1650</td>\n",
       "      <td>B</td>\n",
       "    </tr>\n",
       "    <tr>\n",
       "      <th>1</th>\n",
       "      <td>2804400009</td>\n",
       "      <td>3642806036</td>\n",
       "      <td>2019-08-15</td>\n",
       "      <td>730</td>\n",
       "      <td>B</td>\n",
       "    </tr>\n",
       "    <tr>\n",
       "      <th>2</th>\n",
       "      <td>2961555356</td>\n",
       "      <td>4069496402</td>\n",
       "      <td>2019-08-15</td>\n",
       "      <td>400</td>\n",
       "      <td>A</td>\n",
       "    </tr>\n",
       "    <tr>\n",
       "      <th>3</th>\n",
       "      <td>3797467345</td>\n",
       "      <td>1196621759</td>\n",
       "      <td>2019-08-15</td>\n",
       "      <td>9759</td>\n",
       "      <td>B</td>\n",
       "    </tr>\n",
       "    <tr>\n",
       "      <th>4</th>\n",
       "      <td>2282983706</td>\n",
       "      <td>2322279887</td>\n",
       "      <td>2019-08-15</td>\n",
       "      <td>2308</td>\n",
       "      <td>B</td>\n",
       "    </tr>\n",
       "  </tbody>\n",
       "</table>\n",
       "</div>"
      ],
      "text/plain": [
       "   transactionId   visitorId        date  revenue group\n",
       "0     3667963787  3312258926  2019-08-15     1650     B\n",
       "1     2804400009  3642806036  2019-08-15      730     B\n",
       "2     2961555356  4069496402  2019-08-15      400     A\n",
       "3     3797467345  1196621759  2019-08-15     9759     B\n",
       "4     2282983706  2322279887  2019-08-15     2308     B"
      ]
     },
     "metadata": {},
     "output_type": "display_data"
    },
    {
     "name": "stdout",
     "output_type": "stream",
     "text": [
      "<class 'pandas.core.frame.DataFrame'>\n",
      "RangeIndex: 1197 entries, 0 to 1196\n",
      "Data columns (total 5 columns):\n",
      " #   Column         Non-Null Count  Dtype \n",
      "---  ------         --------------  ----- \n",
      " 0   transactionId  1197 non-null   int64 \n",
      " 1   visitorId      1197 non-null   int64 \n",
      " 2   date           1197 non-null   object\n",
      " 3   revenue        1197 non-null   int64 \n",
      " 4   group          1197 non-null   object\n",
      "dtypes: int64(3), object(2)\n",
      "memory usage: 46.9+ KB\n",
      "None\n"
     ]
    },
    {
     "data": {
      "text/html": [
       "<div>\n",
       "<style scoped>\n",
       "    .dataframe tbody tr th:only-of-type {\n",
       "        vertical-align: middle;\n",
       "    }\n",
       "\n",
       "    .dataframe tbody tr th {\n",
       "        vertical-align: top;\n",
       "    }\n",
       "\n",
       "    .dataframe thead th {\n",
       "        text-align: right;\n",
       "    }\n",
       "</style>\n",
       "<table border=\"1\" class=\"dataframe\">\n",
       "  <thead>\n",
       "    <tr style=\"text-align: right;\">\n",
       "      <th></th>\n",
       "      <th>date</th>\n",
       "      <th>group</th>\n",
       "      <th>visitors</th>\n",
       "    </tr>\n",
       "  </thead>\n",
       "  <tbody>\n",
       "    <tr>\n",
       "      <th>0</th>\n",
       "      <td>2019-08-01</td>\n",
       "      <td>A</td>\n",
       "      <td>719</td>\n",
       "    </tr>\n",
       "    <tr>\n",
       "      <th>1</th>\n",
       "      <td>2019-08-02</td>\n",
       "      <td>A</td>\n",
       "      <td>619</td>\n",
       "    </tr>\n",
       "    <tr>\n",
       "      <th>2</th>\n",
       "      <td>2019-08-03</td>\n",
       "      <td>A</td>\n",
       "      <td>507</td>\n",
       "    </tr>\n",
       "    <tr>\n",
       "      <th>3</th>\n",
       "      <td>2019-08-04</td>\n",
       "      <td>A</td>\n",
       "      <td>717</td>\n",
       "    </tr>\n",
       "    <tr>\n",
       "      <th>4</th>\n",
       "      <td>2019-08-05</td>\n",
       "      <td>A</td>\n",
       "      <td>756</td>\n",
       "    </tr>\n",
       "  </tbody>\n",
       "</table>\n",
       "</div>"
      ],
      "text/plain": [
       "         date group  visitors\n",
       "0  2019-08-01     A       719\n",
       "1  2019-08-02     A       619\n",
       "2  2019-08-03     A       507\n",
       "3  2019-08-04     A       717\n",
       "4  2019-08-05     A       756"
      ]
     },
     "metadata": {},
     "output_type": "display_data"
    },
    {
     "name": "stdout",
     "output_type": "stream",
     "text": [
      "<class 'pandas.core.frame.DataFrame'>\n",
      "RangeIndex: 62 entries, 0 to 61\n",
      "Data columns (total 3 columns):\n",
      " #   Column    Non-Null Count  Dtype \n",
      "---  ------    --------------  ----- \n",
      " 0   date      62 non-null     object\n",
      " 1   group     62 non-null     object\n",
      " 2   visitors  62 non-null     int64 \n",
      "dtypes: int64(1), object(2)\n",
      "memory usage: 1.6+ KB\n"
     ]
    }
   ],
   "source": [
    "# укажем путь к датасетам\n",
    "path = r'C:\\Users\\Valentina\\pr\\pr_env\\projects\\decision making in business\\\\'\n",
    "# откроем датасеты\n",
    "hypotheses = pd.read_csv(path + 'hypothesis.csv')\n",
    "orders = pd.read_csv(path + 'orders.csv')\n",
    "visitors = pd.read_csv(path + 'visitors.csv')\n",
    "    \n",
    "#выведем первые строки и общую информацию\n",
    "display(hypotheses.head())\n",
    "print(hypotheses.info())\n",
    "display(orders.head())\n",
    "print(orders.info())\n",
    "display(visitors.head())\n",
    "visitors.info()"
   ]
  },
  {
   "cell_type": "markdown",
   "id": "e18be5dc-805b-4553-b246-d561e602b64b",
   "metadata": {},
   "source": [
    "На первый взгляд особых проблем в данных нет. Необходимо изменить тип данных для столбцов с датами и проверить датафреймы на наличие других проблем."
   ]
  },
  {
   "cell_type": "markdown",
   "id": "e95ebca7",
   "metadata": {},
   "source": [
    "#### 2. <a id=\"preprocessing\">Предобработка данных</a>\n",
    "<br>\n",
    "Изменим тип данных в столбцах с датами."
   ]
  },
  {
   "cell_type": "code",
   "execution_count": 4,
   "id": "af6d202c",
   "metadata": {},
   "outputs": [
    {
     "name": "stdout",
     "output_type": "stream",
     "text": [
      "<class 'pandas.core.frame.DataFrame'>\n",
      "RangeIndex: 1197 entries, 0 to 1196\n",
      "Data columns (total 5 columns):\n",
      " #   Column         Non-Null Count  Dtype         \n",
      "---  ------         --------------  -----         \n",
      " 0   transactionId  1197 non-null   int64         \n",
      " 1   visitorId      1197 non-null   int64         \n",
      " 2   date           1197 non-null   datetime64[ns]\n",
      " 3   revenue        1197 non-null   int64         \n",
      " 4   group          1197 non-null   object        \n",
      "dtypes: datetime64[ns](1), int64(3), object(1)\n",
      "memory usage: 46.9+ KB\n",
      "None\n",
      "<class 'pandas.core.frame.DataFrame'>\n",
      "RangeIndex: 62 entries, 0 to 61\n",
      "Data columns (total 3 columns):\n",
      " #   Column    Non-Null Count  Dtype         \n",
      "---  ------    --------------  -----         \n",
      " 0   date      62 non-null     datetime64[ns]\n",
      " 1   group     62 non-null     object        \n",
      " 2   visitors  62 non-null     int64         \n",
      "dtypes: datetime64[ns](1), int64(1), object(1)\n",
      "memory usage: 1.6+ KB\n"
     ]
    }
   ],
   "source": [
    "# переведем столбцы с датами в формат даты\n",
    "orders['date'] = pd.to_datetime(orders['date'], format='%Y-%m-%d')\n",
    "visitors['date'] = pd.to_datetime(visitors['date'], format='%Y-%m-%d')\n",
    "print(orders.info())\n",
    "visitors.info()"
   ]
  },
  {
   "cell_type": "markdown",
   "id": "8f7c699a-2f2f-4e0f-8a83-c04b9d30322e",
   "metadata": {},
   "source": [
    "Для удобства приведем названия столбцов к змеиному регистру."
   ]
  },
  {
   "cell_type": "code",
   "execution_count": 5,
   "id": "d6934b1e-9490-4409-9e7b-bca2ccbd3cbc",
   "metadata": {},
   "outputs": [],
   "source": [
    "# переименуем столбцы\n",
    "hypotheses.columns = hypotheses.columns.str.lower()\n",
    "orders = orders.rename(columns={'transactionId': 'transaction_id', 'visitorId': 'visitor_id'})"
   ]
  },
  {
   "cell_type": "markdown",
   "id": "0484e026-1f3a-421b-a758-e1de794c4b99",
   "metadata": {},
   "source": [
    "Проверим, совпадают ли временные периоды в двух датафреймах."
   ]
  },
  {
   "cell_type": "code",
   "execution_count": 6,
   "id": "9194d1b2-7fd3-4edb-a119-ef53ba5c8f41",
   "metadata": {},
   "outputs": [
    {
     "name": "stdout",
     "output_type": "stream",
     "text": [
      "Временные рамки заказов: 2019-08-01 00:00:00 2019-08-31 00:00:00\n",
      "Временные рамки посещений: 2019-08-01 00:00:00 2019-08-31 00:00:00\n"
     ]
    }
   ],
   "source": [
    "# выведем самые ранние и поздние даты\n",
    "print('Временные рамки заказов:', orders['date'].min(), orders['date'].max())\n",
    "print('Временные рамки посещений:', visitors['date'].min(), visitors['date'].max())"
   ]
  },
  {
   "cell_type": "markdown",
   "id": "bd80a016-7952-4c6d-b0d3-6064536cb91f",
   "metadata": {},
   "source": [
    "В обоих датасетах представлены данные за август 2019 года. Судя по общей информации, пропусков в датафреймах нет. Для точности проверим еще раз."
   ]
  },
  {
   "cell_type": "code",
   "execution_count": 7,
   "id": "8ea25da6-c501-47d3-9a5c-076569354b64",
   "metadata": {},
   "outputs": [
    {
     "name": "stdout",
     "output_type": "stream",
     "text": [
      "hypothesis    0\n",
      "reach         0\n",
      "impact        0\n",
      "confidence    0\n",
      "efforts       0\n",
      "dtype: int64\n",
      "transaction_id    0\n",
      "visitor_id        0\n",
      "date              0\n",
      "revenue           0\n",
      "group             0\n",
      "dtype: int64\n"
     ]
    },
    {
     "data": {
      "text/plain": [
       "date        0\n",
       "group       0\n",
       "visitors    0\n",
       "dtype: int64"
      ]
     },
     "execution_count": 7,
     "metadata": {},
     "output_type": "execute_result"
    }
   ],
   "source": [
    "#выведем количество пропусков по столбцам\n",
    "print(hypotheses.isna().sum())\n",
    "print(orders.isna().sum())\n",
    "visitors.isna().sum()"
   ]
  },
  {
   "cell_type": "markdown",
   "id": "ac9d8974-7ec9-4261-8edd-d55d20bff177",
   "metadata": {},
   "source": [
    "Пропуски отсутствуют.<br>\n",
    "Поищем дубликаты в данных. "
   ]
  },
  {
   "cell_type": "code",
   "execution_count": 8,
   "id": "74d5ff04-62ab-423e-b4be-ba37e7b141f4",
   "metadata": {},
   "outputs": [
    {
     "name": "stdout",
     "output_type": "stream",
     "text": [
      "0\n",
      "0\n"
     ]
    },
    {
     "data": {
      "text/plain": [
       "0"
      ]
     },
     "execution_count": 8,
     "metadata": {},
     "output_type": "execute_result"
    }
   ],
   "source": [
    "# выведем количество явных дубликатов\n",
    "print(hypotheses.duplicated().sum())\n",
    "print(orders.duplicated().sum())\n",
    "visitors.duplicated().sum()"
   ]
  },
  {
   "cell_type": "markdown",
   "id": "ffc6714c-ca84-4669-adc4-bd29334c6200",
   "metadata": {},
   "source": [
    "Дубликатов в данных нет. Но нужно проверить, не попали ли какие-то посетители в обе группы."
   ]
  },
  {
   "cell_type": "code",
   "execution_count": 9,
   "id": "a5e85e57-33c2-4726-a35f-e2eef5e4830c",
   "metadata": {},
   "outputs": [
    {
     "data": {
      "text/plain": [
       "58"
      ]
     },
     "execution_count": 9,
     "metadata": {},
     "output_type": "execute_result"
    }
   ],
   "source": [
    "# найдем уникальных посетителей для обеих групп и сохраним их в отдельных множествах\n",
    "visitors_A = set(orders[orders['group'] == 'A']['visitor_id'].unique())\n",
    "visitors_B = set(orders[orders['group'] == 'B']['visitor_id'].unique())\n",
    "# найдем пересечение множеств\n",
    "both_groups_visitors = visitors_A.intersection(visitors_B)\n",
    "# выведем количество посетителей, попавших в обе группы\n",
    "len(both_groups_visitors)"
   ]
  },
  {
   "cell_type": "markdown",
   "id": "356fa9d2-1d6d-4cee-826c-42d2283946ca",
   "metadata": {},
   "source": [
    "58 посетителей - около 5% от общего числа. Их присутствие в обеих группах исказит результаты теста, поэтому придется от них избавиться."
   ]
  },
  {
   "cell_type": "code",
   "execution_count": 10,
   "id": "ee194b35-d64c-446f-9e55-af2c5f53a1f9",
   "metadata": {},
   "outputs": [
    {
     "name": "stdout",
     "output_type": "stream",
     "text": [
      "<class 'pandas.core.frame.DataFrame'>\n",
      "RangeIndex: 1016 entries, 0 to 1015\n",
      "Data columns (total 5 columns):\n",
      " #   Column          Non-Null Count  Dtype         \n",
      "---  ------          --------------  -----         \n",
      " 0   transaction_id  1016 non-null   int64         \n",
      " 1   visitor_id      1016 non-null   int64         \n",
      " 2   date            1016 non-null   datetime64[ns]\n",
      " 3   revenue         1016 non-null   int64         \n",
      " 4   group           1016 non-null   object        \n",
      "dtypes: datetime64[ns](1), int64(3), object(1)\n",
      "memory usage: 39.8+ KB\n"
     ]
    }
   ],
   "source": [
    "# уберем из датафрейма с заказами записи о посетителях, попавших в обе группы\n",
    "orders = (\n",
    "    orders[np.logical_not(orders['visitor_id'].isin(both_groups_visitors))]\n",
    "    .reset_index(drop=True)\n",
    ")\n",
    "orders.info()"
   ]
  },
  {
   "cell_type": "markdown",
   "id": "1f764d40",
   "metadata": {},
   "source": [
    "Необходимо отметить, что присутствие одних и тех же пользователей в обеих группах теста указывает на ошибку в сборе данных. В нашем случае удаление этих пользователей повлияет на конверсию, поскольку мы можем удалить этих пользователей из таблицы с заказами, но не сможем удалить из таблицы с визитами, так как там данные уже агрегированы за день. Проверить корректность распределения пользователей следовало бы сразу после запуска теста, чтобы вовремя принять меры, однако в данном случае мы имеем дело уже с результатами. Таким образом, удаление части пользователей является вынужденным, но не оптимальным решением."
   ]
  },
  {
   "cell_type": "markdown",
   "id": "d710d0cc-7c4b-4473-9166-555549a25f6c",
   "metadata": {},
   "source": [
    "Посмотрим, есть ли в данных выбросы и аномалии. Нас интересуют выручка от заказа, количество заказов на одного посетителя и количество посетителей за день."
   ]
  },
  {
   "cell_type": "markdown",
   "id": "4fdbd919-6dfc-40e3-bf59-5e60355ccc6b",
   "metadata": {},
   "source": [
    "Сначала изучим выручку."
   ]
  },
  {
   "cell_type": "code",
   "execution_count": 11,
   "id": "904131a5-e43e-4b15-9b34-37c509459bfc",
   "metadata": {},
   "outputs": [
    {
     "name": "stdout",
     "output_type": "stream",
     "text": [
      "count      1016.00\n",
      "mean       8300.81\n",
      "std       42121.99\n",
      "min          50.00\n",
      "25%        1190.00\n",
      "50%        2955.00\n",
      "75%        8134.25\n",
      "90%       17990.00\n",
      "95%       26785.00\n",
      "99%       53904.00\n",
      "max     1294500.00\n",
      "Name: revenue, dtype: float64\n"
     ]
    },
    {
     "data": {
      "image/png": "[encoded data removed]",
      "text/plain": [
       "<Figure size 1500x400 with 1 Axes>"
      ]
     },
     "metadata": {},
     "output_type": "display_data"
    },
    {
     "data": {
      "image/png": "[encoded data removed]",
      "text/plain": [
       "<Figure size 1500x400 with 1 Axes>"
      ]
     },
     "metadata": {},
     "output_type": "display_data"
    }
   ],
   "source": [
    "# выведем описание данных, гистограмму и диаграмму размаха\n",
    "print(orders['revenue'].describe(percentiles=[.25, .5, .75, .9, .95, .99]))\n",
    "orders['revenue'].hist(bins=50, figsize=(15, 4))\n",
    "plt.title('Выручка от заказа')\n",
    "plt.xlabel('Сумма заказа')\n",
    "plt.ylabel('Частотность')\n",
    "plt.show()\n",
    "orders.boxplot(column='revenue', vert=False, figsize=(15, 4))\n",
    "plt.title('Выручка от заказа')\n",
    "plt.xlabel('Сумма заказа')\n",
    "plt.show()"
   ]
  },
  {
   "cell_type": "markdown",
   "id": "d49c9c90-fbbe-4ef1-b2ff-d960b4c70091",
   "metadata": {},
   "source": [
    "99% процентов всех заказов укладываются в 54т.р. при медиане около 3т.р. То есть в основном заказы совершались на сравнительно небольшие суммы, однако среди них есть серьезные выбросы, в том числе превышающие 1 млн.р. Неизвестно, идет ли речь об ошибке или каких-то реальных дорогих заказах, в любом случае учтем этот момент при анализе А/В-теста.<br>\n",
    "Рассмотрим данные о количестве заказов на посетителя. Здесь обойдемся гистограммой и выводом отдельных процентилей."
   ]
  },
  {
   "cell_type": "code",
   "execution_count": 12,
   "id": "a16bed0c-0b52-4416-8e8e-71fb66679c5f",
   "metadata": {},
   "outputs": [
    {
     "data": {
      "image/png": "[encoded data removed]",
      "text/plain": [
       "<Figure size 640x480 with 1 Axes>"
      ]
     },
     "metadata": {},
     "output_type": "display_data"
    },
    {
     "name": "stdout",
     "output_type": "stream",
     "text": [
      "90-й, 95-й и 99-й процентили числа заказов: [1. 1. 2.]\n"
     ]
    }
   ],
   "source": [
    "# выведем гистограмму числа заказов на посетителя\n",
    "plt.hist(orders.groupby('visitor_id').agg({'transaction_id':'count'}))\n",
    "plt.xticks([1, 2, 3])\n",
    "plt.title('Количество заказов на посетителя')\n",
    "plt.xlabel('Количество заказов')\n",
    "plt.ylabel('Частотность')\n",
    "plt.show()\n",
    "# выведем 90, 95 и 99 процентили\n",
    "print(\n",
    "    '90-й, 95-й и 99-й процентили числа заказов:', \n",
    "    np.percentile(orders.groupby('visitor_id').agg({'transaction_id':'count'}), [90, 95, 99])\n",
    ")"
   ]
  },
  {
   "cell_type": "markdown",
   "id": "eb980ef3-1a5c-4458-bada-578ef8a40ead",
   "metadata": {},
   "source": [
    "95% посетителей совершили не более 1 заказа и 99% - не более 2. <br>\n",
    "Осталось посмотреть количество посетителей в день. "
   ]
  },
  {
   "cell_type": "code",
   "execution_count": 13,
   "id": "69154a0e-2420-407d-bdcc-271db47fefd6",
   "metadata": {},
   "outputs": [
    {
     "name": "stdout",
     "output_type": "stream",
     "text": [
      "       visitors\n",
      "count     31.00\n",
      "mean    1214.58\n",
      "std      226.87\n",
      "min      773.00\n",
      "25%     1062.00\n",
      "50%     1259.00\n",
      "75%     1411.00\n",
      "90%     1463.00\n",
      "95%     1484.00\n",
      "99%     1508.00\n",
      "max     1517.00\n"
     ]
    },
    {
     "data": {
      "image/png": "[encoded data removed]",
      "text/plain": [
       "<Figure size 640x480 with 1 Axes>"
      ]
     },
     "metadata": {},
     "output_type": "display_data"
    },
    {
     "data": {
      "image/png": "[encoded data removed]",
      "text/plain": [
       "<Figure size 640x480 with 1 Axes>"
      ]
     },
     "metadata": {},
     "output_type": "display_data"
    }
   ],
   "source": [
    "# выведем описание данных, гистограмму и диаграмму размаха, объединив обе группы\n",
    "print(visitors.groupby('date').agg({'visitors':'sum'}).describe(percentiles=[.25, .5, .75, .9, .95, .99]))\n",
    "plt.hist(visitors.groupby('date').agg({'visitors':'sum'}))\n",
    "plt.title('Количество посетителей за день')\n",
    "plt.xlabel('Количество посетителей')\n",
    "plt.ylabel('Частотность')\n",
    "plt.show()\n",
    "plt.boxplot(visitors.groupby('date').agg({'visitors':'sum'}), vert=False)\n",
    "plt.title('Количество посетителей за день')\n",
    "plt.xlabel('Количество посетителей')\n",
    "plt.show()"
   ]
  },
  {
   "cell_type": "markdown",
   "id": "469eaaa4-24b8-4107-95ce-1def0325ff92",
   "metadata": {},
   "source": [
    "По количеству посетителей каких-то выбросов не наблюдаем, практически все значения укладываются в диапазон 800-1500."
   ]
  },
  {
   "cell_type": "markdown",
   "id": "3e072530-7dfe-4674-beea-2e83fcccd4a4",
   "metadata": {},
   "source": [
    "Предварительная обработка данных завершена. Перейдем к гипотезам."
   ]
  },
  {
   "cell_type": "markdown",
   "id": "212593c7",
   "metadata": {},
   "source": [
    "#### 3. <a id=\"prioritization\">Приоритизация гипотез</a>"
   ]
  },
  {
   "cell_type": "markdown",
   "id": "3d9a0fe0-c6b3-4ef9-95c9-1783decc00d9",
   "metadata": {},
   "source": [
    "Приоритизируем гипотезы фреймворком ICE."
   ]
  },
  {
   "cell_type": "code",
   "execution_count": 14,
   "id": "594338f6-f758-47ee-a132-95cc22bb935f",
   "metadata": {
    "scrolled": true
   },
   "outputs": [
    {
     "data": {
      "text/html": [
       "<div>\n",
       "<style scoped>\n",
       "    .dataframe tbody tr th:only-of-type {\n",
       "        vertical-align: middle;\n",
       "    }\n",
       "\n",
       "    .dataframe tbody tr th {\n",
       "        vertical-align: top;\n",
       "    }\n",
       "\n",
       "    .dataframe thead th {\n",
       "        text-align: right;\n",
       "    }\n",
       "</style>\n",
       "<table border=\"1\" class=\"dataframe\">\n",
       "  <thead>\n",
       "    <tr style=\"text-align: right;\">\n",
       "      <th></th>\n",
       "      <th>hypothesis</th>\n",
       "      <th>ICE</th>\n",
       "    </tr>\n",
       "  </thead>\n",
       "  <tbody>\n",
       "    <tr>\n",
       "      <th>8</th>\n",
       "      <td>Запустить акцию, дающую скидку на товар в день рождения</td>\n",
       "      <td>16.20</td>\n",
       "    </tr>\n",
       "    <tr>\n",
       "      <th>0</th>\n",
       "      <td>Добавить два новых канала привлечения трафика, что позволит привлекать на 30% больше пользователей</td>\n",
       "      <td>13.33</td>\n",
       "    </tr>\n",
       "    <tr>\n",
       "      <th>7</th>\n",
       "      <td>Добавить форму подписки на все основные страницы, чтобы собрать базу клиентов для email-рассылок</td>\n",
       "      <td>11.20</td>\n",
       "    </tr>\n",
       "    <tr>\n",
       "      <th>6</th>\n",
       "      <td>Показать на главной странице баннеры с актуальными акциями и распродажами, чтобы увеличить конверсию</td>\n",
       "      <td>8.00</td>\n",
       "    </tr>\n",
       "    <tr>\n",
       "      <th>2</th>\n",
       "      <td>Добавить блоки рекомендаций товаров на сайт интернет магазина, чтобы повысить конверсию и средний чек заказа</td>\n",
       "      <td>7.00</td>\n",
       "    </tr>\n",
       "    <tr>\n",
       "      <th>1</th>\n",
       "      <td>Запустить собственную службу доставки, что сократит срок доставки заказов</td>\n",
       "      <td>2.00</td>\n",
       "    </tr>\n",
       "    <tr>\n",
       "      <th>5</th>\n",
       "      <td>Добавить страницу отзывов клиентов о магазине, что позволит увеличить количество заказов</td>\n",
       "      <td>1.33</td>\n",
       "    </tr>\n",
       "    <tr>\n",
       "      <th>3</th>\n",
       "      <td>Изменить структура категорий, что увеличит конверсию, т.к. пользователи быстрее найдут нужный товар</td>\n",
       "      <td>1.12</td>\n",
       "    </tr>\n",
       "    <tr>\n",
       "      <th>4</th>\n",
       "      <td>Изменить цвет фона главной страницы, чтобы увеличить вовлеченность пользователей</td>\n",
       "      <td>1.00</td>\n",
       "    </tr>\n",
       "  </tbody>\n",
       "</table>\n",
       "</div>"
      ],
      "text/plain": [
       "                                                                                                     hypothesis  \\\n",
       "8                                                       Запустить акцию, дающую скидку на товар в день рождения   \n",
       "0            Добавить два новых канала привлечения трафика, что позволит привлекать на 30% больше пользователей   \n",
       "7              Добавить форму подписки на все основные страницы, чтобы собрать базу клиентов для email-рассылок   \n",
       "6          Показать на главной странице баннеры с актуальными акциями и распродажами, чтобы увеличить конверсию   \n",
       "2  Добавить блоки рекомендаций товаров на сайт интернет магазина, чтобы повысить конверсию и средний чек заказа   \n",
       "1                                     Запустить собственную службу доставки, что сократит срок доставки заказов   \n",
       "5                      Добавить страницу отзывов клиентов о магазине, что позволит увеличить количество заказов   \n",
       "3           Изменить структура категорий, что увеличит конверсию, т.к. пользователи быстрее найдут нужный товар   \n",
       "4                              Изменить цвет фона главной страницы, чтобы увеличить вовлеченность пользователей   \n",
       "\n",
       "    ICE  \n",
       "8 16.20  \n",
       "0 13.33  \n",
       "7 11.20  \n",
       "6  8.00  \n",
       "2  7.00  \n",
       "1  2.00  \n",
       "5  1.33  \n",
       "3  1.12  \n",
       "4  1.00  "
      ]
     },
     "execution_count": 14,
     "metadata": {},
     "output_type": "execute_result"
    }
   ],
   "source": [
    "# добавим в датафрейм hypotheses столбец с оценкой гипотез методом ICE\n",
    "hypotheses['ICE'] =  hypotheses['impact'] * hypotheses['confidence'] / hypotheses['efforts']\n",
    "# выведем результат с сортировкой по убыванию\n",
    "hypotheses[['hypothesis', 'ICE']].sort_values('ICE', ascending=False)"
   ]
  },
  {
   "cell_type": "markdown",
   "id": "735d2eee-9534-47a7-bfba-f83c334c99f9",
   "metadata": {},
   "source": [
    "Метод ICE отдает приоритет акции со скидками на день рождения. Можно предположить, что такая акция действительно будет пользоваться спросом, однако представляется, что она скорее будет эффективна для удержания уже существующих в базе клиентов и стимулирования повторных покупок. В силу растянутости во времени и точечного воздействия вряд ли от нее можно ожидать статистически значимого роста выручки. "
   ]
  },
  {
   "cell_type": "markdown",
   "id": "df986e26-c4fb-4b3f-9fe6-b7b96d688e2d",
   "metadata": {},
   "source": [
    "Учтем при приоритизации охват."
   ]
  },
  {
   "cell_type": "code",
   "execution_count": 15,
   "id": "399a4b4f-d493-4023-9a05-c8b77e0305da",
   "metadata": {},
   "outputs": [
    {
     "data": {
      "text/html": [
       "<div>\n",
       "<style scoped>\n",
       "    .dataframe tbody tr th:only-of-type {\n",
       "        vertical-align: middle;\n",
       "    }\n",
       "\n",
       "    .dataframe tbody tr th {\n",
       "        vertical-align: top;\n",
       "    }\n",
       "\n",
       "    .dataframe thead th {\n",
       "        text-align: right;\n",
       "    }\n",
       "</style>\n",
       "<table border=\"1\" class=\"dataframe\">\n",
       "  <thead>\n",
       "    <tr style=\"text-align: right;\">\n",
       "      <th></th>\n",
       "      <th>hypothesis</th>\n",
       "      <th>RICE</th>\n",
       "    </tr>\n",
       "  </thead>\n",
       "  <tbody>\n",
       "    <tr>\n",
       "      <th>7</th>\n",
       "      <td>Добавить форму подписки на все основные страницы, чтобы собрать базу клиентов для email-рассылок</td>\n",
       "      <td>112.00</td>\n",
       "    </tr>\n",
       "    <tr>\n",
       "      <th>2</th>\n",
       "      <td>Добавить блоки рекомендаций товаров на сайт интернет магазина, чтобы повысить конверсию и средний чек заказа</td>\n",
       "      <td>56.00</td>\n",
       "    </tr>\n",
       "    <tr>\n",
       "      <th>0</th>\n",
       "      <td>Добавить два новых канала привлечения трафика, что позволит привлекать на 30% больше пользователей</td>\n",
       "      <td>40.00</td>\n",
       "    </tr>\n",
       "    <tr>\n",
       "      <th>6</th>\n",
       "      <td>Показать на главной странице баннеры с актуальными акциями и распродажами, чтобы увеличить конверсию</td>\n",
       "      <td>40.00</td>\n",
       "    </tr>\n",
       "    <tr>\n",
       "      <th>8</th>\n",
       "      <td>Запустить акцию, дающую скидку на товар в день рождения</td>\n",
       "      <td>16.20</td>\n",
       "    </tr>\n",
       "    <tr>\n",
       "      <th>3</th>\n",
       "      <td>Изменить структура категорий, что увеличит конверсию, т.к. пользователи быстрее найдут нужный товар</td>\n",
       "      <td>9.00</td>\n",
       "    </tr>\n",
       "    <tr>\n",
       "      <th>1</th>\n",
       "      <td>Запустить собственную службу доставки, что сократит срок доставки заказов</td>\n",
       "      <td>4.00</td>\n",
       "    </tr>\n",
       "    <tr>\n",
       "      <th>5</th>\n",
       "      <td>Добавить страницу отзывов клиентов о магазине, что позволит увеличить количество заказов</td>\n",
       "      <td>4.00</td>\n",
       "    </tr>\n",
       "    <tr>\n",
       "      <th>4</th>\n",
       "      <td>Изменить цвет фона главной страницы, чтобы увеличить вовлеченность пользователей</td>\n",
       "      <td>3.00</td>\n",
       "    </tr>\n",
       "  </tbody>\n",
       "</table>\n",
       "</div>"
      ],
      "text/plain": [
       "                                                                                                     hypothesis  \\\n",
       "7              Добавить форму подписки на все основные страницы, чтобы собрать базу клиентов для email-рассылок   \n",
       "2  Добавить блоки рекомендаций товаров на сайт интернет магазина, чтобы повысить конверсию и средний чек заказа   \n",
       "0            Добавить два новых канала привлечения трафика, что позволит привлекать на 30% больше пользователей   \n",
       "6          Показать на главной странице баннеры с актуальными акциями и распродажами, чтобы увеличить конверсию   \n",
       "8                                                       Запустить акцию, дающую скидку на товар в день рождения   \n",
       "3           Изменить структура категорий, что увеличит конверсию, т.к. пользователи быстрее найдут нужный товар   \n",
       "1                                     Запустить собственную службу доставки, что сократит срок доставки заказов   \n",
       "5                      Добавить страницу отзывов клиентов о магазине, что позволит увеличить количество заказов   \n",
       "4                              Изменить цвет фона главной страницы, чтобы увеличить вовлеченность пользователей   \n",
       "\n",
       "    RICE  \n",
       "7 112.00  \n",
       "2  56.00  \n",
       "0  40.00  \n",
       "6  40.00  \n",
       "8  16.20  \n",
       "3   9.00  \n",
       "1   4.00  \n",
       "5   4.00  \n",
       "4   3.00  "
      ]
     },
     "execution_count": 15,
     "metadata": {},
     "output_type": "execute_result"
    }
   ],
   "source": [
    "# добавим в датафрейм hypotheses столбец с оценкой гипотез методом RICE\n",
    "hypotheses['RICE'] =  hypotheses['impact'] * hypotheses['confidence'] * hypotheses['reach'] / hypotheses['efforts']\n",
    "# выведем результат с сортировкой по убыванию\n",
    "hypotheses[['hypothesis', 'RICE']].sort_values('RICE', ascending=False)"
   ]
  },
  {
   "cell_type": "markdown",
   "id": "73737459-fe1e-4f82-8521-943da38a5cb1",
   "metadata": {},
   "source": [
    "Учет охвата изменил ситуацию. Предложение добавить форму подписки на основные страницы, чтобы собрать базу клиентов для email-рассылок, поднялось с 3-го на первое место в рейтинге приоритетности. То есть такой способ привлечения клиентов и, соответственно, увеличения выручки, предполагает максимальный охват и с учетом довольно хорошей оценки методом ICE представляется наиболее эффективным. Чего нельзя сказать об акции со скидками на день рождения, охват которой, судя по двум оценкам, фактически нулевой, то есть она не даст существенного прироста показателей."
   ]
  },
  {
   "cell_type": "markdown",
   "id": "41545ac0",
   "metadata": {},
   "source": [
    "#### 4. <a id=\"analysis\">Анализ А/В-теста</a>"
   ]
  },
  {
   "cell_type": "markdown",
   "id": "4914ff6a-e6ae-418a-9aec-a66f85ec58c7",
   "metadata": {},
   "source": [
    "##### 4.1. <a id=\"one\">Кумулятивная выручка по группам</a> <br>\n",
    "Посчитаем кумулятивные данные о выручке и посетителях по дням."
   ]
  },
  {
   "cell_type": "code",
   "execution_count": 16,
   "id": "bc79e17e-5e11-4fb6-96fe-df14fb33a7da",
   "metadata": {},
   "outputs": [
    {
     "data": {
      "text/html": [
       "<div>\n",
       "<style scoped>\n",
       "    .dataframe tbody tr th:only-of-type {\n",
       "        vertical-align: middle;\n",
       "    }\n",
       "\n",
       "    .dataframe tbody tr th {\n",
       "        vertical-align: top;\n",
       "    }\n",
       "\n",
       "    .dataframe thead th {\n",
       "        text-align: right;\n",
       "    }\n",
       "</style>\n",
       "<table border=\"1\" class=\"dataframe\">\n",
       "  <thead>\n",
       "    <tr style=\"text-align: right;\">\n",
       "      <th></th>\n",
       "      <th>date</th>\n",
       "      <th>group</th>\n",
       "      <th>orders</th>\n",
       "      <th>buyers</th>\n",
       "      <th>revenue</th>\n",
       "      <th>visitors</th>\n",
       "    </tr>\n",
       "  </thead>\n",
       "  <tbody>\n",
       "    <tr>\n",
       "      <th>0</th>\n",
       "      <td>2019-08-01</td>\n",
       "      <td>A</td>\n",
       "      <td>23</td>\n",
       "      <td>19</td>\n",
       "      <td>142779</td>\n",
       "      <td>719</td>\n",
       "    </tr>\n",
       "    <tr>\n",
       "      <th>1</th>\n",
       "      <td>2019-08-01</td>\n",
       "      <td>B</td>\n",
       "      <td>17</td>\n",
       "      <td>17</td>\n",
       "      <td>59758</td>\n",
       "      <td>713</td>\n",
       "    </tr>\n",
       "    <tr>\n",
       "      <th>2</th>\n",
       "      <td>2019-08-02</td>\n",
       "      <td>A</td>\n",
       "      <td>42</td>\n",
       "      <td>36</td>\n",
       "      <td>234381</td>\n",
       "      <td>1338</td>\n",
       "    </tr>\n",
       "    <tr>\n",
       "      <th>3</th>\n",
       "      <td>2019-08-02</td>\n",
       "      <td>B</td>\n",
       "      <td>40</td>\n",
       "      <td>39</td>\n",
       "      <td>221801</td>\n",
       "      <td>1294</td>\n",
       "    </tr>\n",
       "    <tr>\n",
       "      <th>4</th>\n",
       "      <td>2019-08-03</td>\n",
       "      <td>A</td>\n",
       "      <td>66</td>\n",
       "      <td>60</td>\n",
       "      <td>346854</td>\n",
       "      <td>1845</td>\n",
       "    </tr>\n",
       "  </tbody>\n",
       "</table>\n",
       "</div>"
      ],
      "text/plain": [
       "        date group  orders  buyers  revenue  visitors\n",
       "0 2019-08-01     A      23      19   142779       719\n",
       "1 2019-08-01     B      17      17    59758       713\n",
       "2 2019-08-02     A      42      36   234381      1338\n",
       "3 2019-08-02     B      40      39   221801      1294\n",
       "4 2019-08-03     A      66      60   346854      1845"
      ]
     },
     "execution_count": 16,
     "metadata": {},
     "output_type": "execute_result"
    }
   ],
   "source": [
    "# создадим массив уникальных пар значений дат и групп теста\n",
    "dates_groups = orders[['date','group']].drop_duplicates()\n",
    "\n",
    "# получим агрегированные кумулятивные по дням данные о заказах \n",
    "orders_aggregated = (\n",
    "    dates_groups\n",
    "    .apply(lambda x: orders[np.logical_and(orders['date'] <= x['date'], orders['group'] == x['group'])]\n",
    "           .agg({'date' : 'max', 'group' : 'max', 'transaction_id' : 'nunique', 'visitor_id' : 'nunique', 'revenue' : 'sum'}), \n",
    "           axis=1)\n",
    "    .sort_values(by=['date','group'])\n",
    ")\n",
    "\n",
    "# получим агрегированные кумулятивные по дням данные о посетителях интернет-магазина \n",
    "visitors_aggregated = (\n",
    "    dates_groups\n",
    "    .apply(lambda x: visitors[np.logical_and(visitors['date'] <= x['date'], visitors['group'] == x['group'])]\n",
    "           .agg({'date' : 'max', 'group' : 'max', 'visitors' : 'sum'}), axis=1)\n",
    "    .sort_values(by=['date','group'])\n",
    ")\n",
    "\n",
    "# объединим кумулятивные данные в одной таблице и присвоим ее столбцам понятные названия\n",
    "cumulative_data = orders_aggregated.merge(visitors_aggregated, left_on=['date', 'group'], right_on=['date', 'group'])\n",
    "cumulative_data.columns = ['date', 'group', 'orders', 'buyers', 'revenue', 'visitors']\n",
    "# выведем первые строки таблицы для проверки\n",
    "cumulative_data.head(5)"
   ]
  },
  {
   "cell_type": "markdown",
   "id": "a4ba6afc-8855-489c-b409-0db07d5ce360",
   "metadata": {},
   "source": [
    "Построим график кумулятивной выручки по группам."
   ]
  },
  {
   "cell_type": "code",
   "execution_count": 17,
   "id": "9ac59ee5-88c6-4b51-99f6-461369ffbe03",
   "metadata": {},
   "outputs": [
    {
     "data": {
      "image/png": "[encoded data removed]",
      "text/plain": [
       "<Figure size 640x480 with 1 Axes>"
      ]
     },
     "metadata": {},
     "output_type": "display_data"
    }
   ],
   "source": [
    "# датафрейм с кумулятивным количеством заказов и кумулятивной выручкой по дням в группе А\n",
    "cumulative_revenue_A = cumulative_data[cumulative_data['group']=='A'][['date','revenue', 'orders']]\n",
    "\n",
    "# датафрейм с кумулятивным количеством заказов и кумулятивной выручкой по дням в группе B\n",
    "cumulative_revenue_B = cumulative_data[cumulative_data['group']=='B'][['date','revenue', 'orders']]\n",
    "\n",
    "# cтроим график выручки группы А\n",
    "plt.plot(cumulative_revenue_A['date'], cumulative_revenue_A['revenue'], label='A')\n",
    "\n",
    "# cтроим график выручки группы B\n",
    "plt.plot(cumulative_revenue_B['date'], cumulative_revenue_B['revenue'], label='B')\n",
    "\n",
    "# оформляем график\n",
    "plt.title('Кумулятивная выручка по дням')\n",
    "plt.ylabel('Выручка')\n",
    "plt.xticks(rotation=45, ha='right')\n",
    "plt.grid()\n",
    "plt.legend();"
   ]
  },
  {
   "cell_type": "markdown",
   "id": "980543e7-84c3-4caa-9838-75f08708d6be",
   "metadata": {},
   "source": [
    "Судя по графику, группа В опережает по выручке группу А. В обеих группах показатель растет довольно плавно, однако в группе В наблюдается всплеск, который, видимо, объясняется наличием обнаруженных на этапе предобработки аномально дорогих заказов. Мы их учтем в дальнейшем анализе."
   ]
  },
  {
   "cell_type": "markdown",
   "id": "0a4d8464-67e4-4e4d-9a46-9746b2b840ab",
   "metadata": {},
   "source": [
    "##### 4.2. <a id=\"two\">Кумулятивный средний чек</a> <br>\n",
    "Построим график кумулятивного среднего чека по группам."
   ]
  },
  {
   "cell_type": "code",
   "execution_count": 18,
   "id": "cbbd5a4c-c076-4622-8b4e-9bf310d9a74e",
   "metadata": {},
   "outputs": [
    {
     "data": {
      "image/png": "[encoded data removed]",
      "text/plain": [
       "<Figure size 640x480 with 1 Axes>"
      ]
     },
     "metadata": {},
     "output_type": "display_data"
    }
   ],
   "source": [
    "plt.plot(cumulative_revenue_A['date'], cumulative_revenue_A['revenue']/cumulative_revenue_A['orders'], label='A')\n",
    "plt.plot(cumulative_revenue_B['date'], cumulative_revenue_B['revenue']/cumulative_revenue_B['orders'], label='B')\n",
    "plt.title('Кумулятивный средний чек')\n",
    "plt.ylabel('Сумма чека')\n",
    "plt.xticks(rotation=45, ha='right')\n",
    "plt.grid()\n",
    "plt.legend();"
   ]
  },
  {
   "cell_type": "markdown",
   "id": "5584f93c-7d9a-4e98-aef0-4690766efc47",
   "metadata": {},
   "source": [
    "Для группы А средний чек можно считать установившимся. На средний чек группы В, видимо, повлияли выбросы в данных, он начал выравниваться только ближе к концу теста. На момент завершения наблюдений он существенно выше среднего чека группы А, однако пока затруднительно сказать, установится ли он на этом уровне или продолжит падать."
   ]
  },
  {
   "cell_type": "markdown",
   "id": "887bca95-b6d1-448e-9507-deef99e06234",
   "metadata": {},
   "source": [
    "##### 4.3. <a id=\"three\">Относительное изменение кумулятивного среднего чека группы B к группе A</a> <br>\n",
    "Построим график для оценки относительного изменения кумулятивного среднего чека группы B к группе A."
   ]
  },
  {
   "cell_type": "code",
   "execution_count": 19,
   "id": "eb048f09-820e-43df-b657-4cd76c42c19c",
   "metadata": {},
   "outputs": [
    {
     "data": {
      "image/png": "[encoded data removed]",
      "text/plain": [
       "<Figure size 640x480 with 1 Axes>"
      ]
     },
     "metadata": {},
     "output_type": "display_data"
    }
   ],
   "source": [
    "# соберем данные в одном датафрейме\n",
    "merged_cumulative_revenue = (\n",
    "    cumulative_revenue_A\n",
    "    .merge(cumulative_revenue_B, left_on='date', right_on='date', how='left', suffixes=['A', 'B'])\n",
    ")\n",
    "\n",
    "# поcтроим отношение средних чеков\n",
    "plt.plot(\n",
    "    merged_cumulative_revenue['date'], \n",
    "    (merged_cumulative_revenue['revenueB']/merged_cumulative_revenue['ordersB'])/\n",
    "    (merged_cumulative_revenue['revenueA']/merged_cumulative_revenue['ordersA'])-1\n",
    ")\n",
    "\n",
    "# добавим ось X\n",
    "plt.axhline(y=0, color='black', linestyle='--')\n",
    "\n",
    "# оформляем график\n",
    "plt.title('Отношение кумулятивного среднего чека группы В к группе А')\n",
    "plt.xticks(rotation=45, ha='right')\n",
    "plt.grid();"
   ]
  },
  {
   "cell_type": "markdown",
   "id": "376c2240-a3e8-4f1b-b27b-afb45b18c04a",
   "metadata": {},
   "source": [
    "Колебания на графике снова указывают на выбросы в данных. Сейчас по нему сложно оценить эффективность эксперимента."
   ]
  },
  {
   "cell_type": "markdown",
   "id": "07896b28-04cc-456e-ba7b-d388b663e9f8",
   "metadata": {},
   "source": [
    "##### 4.4. <a id=\"four\">Кумулятивная конверсия</a> <br>\n",
    "Построим график кумулятивного среднего количества заказов на посетителя по группам."
   ]
  },
  {
   "cell_type": "code",
   "execution_count": 20,
   "id": "d93a7ea6-af6c-4a89-a8ab-f5b8ca604e94",
   "metadata": {},
   "outputs": [
    {
     "data": {
      "image/png": "[encoded data removed]",
      "text/plain": [
       "<Figure size 640x480 with 1 Axes>"
      ]
     },
     "metadata": {},
     "output_type": "display_data"
    }
   ],
   "source": [
    "# считаем среднее количество заказов на посетителя\n",
    "cumulative_data['conversion'] = cumulative_data['orders']/cumulative_data['visitors']\n",
    "\n",
    "# отделяем данные по группе A\n",
    "cumulative_data_A = cumulative_data[cumulative_data['group']=='A']\n",
    "\n",
    "# отделяем данные по группе B\n",
    "cumulative_data_B = cumulative_data[cumulative_data['group']=='B']\n",
    "\n",
    "# строим графики\n",
    "plt.plot(cumulative_data_A['date'], cumulative_data_A['conversion'], label='A')\n",
    "plt.plot(cumulative_data_B['date'], cumulative_data_B['conversion'], label='B')\n",
    "\n",
    "# задаем масштаб осей\n",
    "plt.axis([None, None, 0, 0.036]) \n",
    "\n",
    "# оформляем график\n",
    "plt.title('Кумулятивное среднее количество заказов на посетителя')\n",
    "plt.ylabel('Конверсия')\n",
    "plt.grid()\n",
    "plt.xticks(rotation=45, ha='right')\n",
    "plt.legend();"
   ]
  },
  {
   "cell_type": "markdown",
   "id": "2e460a9b-e717-4d09-9ede-f54be428b572",
   "metadata": {},
   "source": [
    "Можно сказать, что кумулятивная конверсия для обеих групп более-менее зафиксировалась и составляет около 2,5% для группы А и немногим менее 3% для группы В."
   ]
  },
  {
   "cell_type": "markdown",
   "id": "61213c5e",
   "metadata": {
    "tags": []
   },
   "source": [
    "##### 4.5. <a id=\"five\">Относительное изменение кумулятивной конверсии группы B к группе A</a> <br>\n",
    "Построим график относительного изменения кумулятивного среднего количества заказов на посетителя группы B к группе A."
   ]
  },
  {
   "cell_type": "code",
   "execution_count": 21,
   "id": "e9fb7aa4-8ec9-4028-8360-8ca6b60ffb80",
   "metadata": {},
   "outputs": [
    {
     "data": {
      "image/png": "[encoded data removed]",
      "text/plain": [
       "<Figure size 640x480 with 1 Axes>"
      ]
     },
     "metadata": {},
     "output_type": "display_data"
    }
   ],
   "source": [
    "# обединим данные по кумулятивной конверсии\n",
    "merged_cumulative_conversions = (\n",
    "    cumulative_data_A[['date','conversion']]\n",
    "    .merge(cumulative_data_B[['date','conversion']], left_on='date', right_on='date', how='left', suffixes=['A', 'B'])\n",
    ")\n",
    "\n",
    "# построим график\n",
    "plt.plot(\n",
    "    merged_cumulative_conversions['date'], \n",
    "    merged_cumulative_conversions['conversionB']/merged_cumulative_conversions['conversionA']-1\n",
    ")\n",
    "\n",
    "# добавим оси Х\n",
    "plt.axhline(y=0, color='black', linestyle='--')\n",
    "plt.axhline(y=0.15, color='grey', linestyle='--')\n",
    "\n",
    "# оформляем график\n",
    "plt.title('Относительный прирост кумулятивного среднего количества заказов на посетителя группы B относительно группы A')\n",
    "plt.xticks(rotation=45, ha='right');"
   ]
  },
  {
   "cell_type": "markdown",
   "id": "6eff4b45-41cd-4c91-b301-3e653987a80c",
   "metadata": {},
   "source": [
    "В первую неделю теста группа В отставала от группы А, но затем вырвалась вперед и сохраняется примерно на одном уровне на протяжении трех недель. Это позволяет заключить, что кумулятивная конверсия у группы В стабильно выше."
   ]
  },
  {
   "cell_type": "markdown",
   "id": "821b78cd-2d31-4d84-953e-1f8d7bf5d10c",
   "metadata": {},
   "source": [
    "##### 4.6. <a id=\"six\">Количество заказов по посетителям</a> <br>\n",
    "Построим точечный график количества заказов по посетителям."
   ]
  },
  {
   "cell_type": "code",
   "execution_count": 22,
   "id": "a29667e2-7563-4dea-bb6d-9e88a474914a",
   "metadata": {},
   "outputs": [
    {
     "data": {
      "image/png": "[encoded data removed]",
      "text/plain": [
       "<Figure size 640x480 with 1 Axes>"
      ]
     },
     "metadata": {},
     "output_type": "display_data"
    }
   ],
   "source": [
    "# посчитаем количество заказов на посетителя\n",
    "orders_by_users = (\n",
    "    orders.groupby('visitor_id', as_index=False)\n",
    "    .agg({'transaction_id': 'nunique'})\n",
    ")\n",
    "# переименуем столбцы\n",
    "orders_by_users.columns = ['visitor_id', 'orders']\n",
    "# найдем диапазон значений\n",
    "x_values = pd.Series(range(0,len(orders_by_users)))\n",
    "# построим график\n",
    "plt.scatter(x_values, orders_by_users['orders'])\n",
    "plt.yticks([1, 2, 3])\n",
    "plt.title('Количество заказов по посетителям')\n",
    "plt.ylabel('Количество заказов');"
   ]
  },
  {
   "cell_type": "markdown",
   "id": "b6381a15-7c18-4eaf-9458-0eeb20227624",
   "metadata": {},
   "source": [
    "Абсолютное большинство совершило за месяц наблюдения всего 1 заказ. Лишь единицы сделали по 3 заказа."
   ]
  },
  {
   "cell_type": "markdown",
   "id": "03c08cda-eb1c-4d50-b6df-422813f3a5ed",
   "metadata": {},
   "source": [
    "##### 4.7. <a id=\"seven\">95-й и 99-й процентили количества заказов на пользователя</a> <br>\n",
    "Чтобы найти границу для определения аномальных пользователей, вычислим 95-й и 99-й процентили количества заказов на пользователя."
   ]
  },
  {
   "cell_type": "code",
   "execution_count": 23,
   "id": "7fb7f044-4d9b-4a4c-86ba-e2a94e7077cf",
   "metadata": {},
   "outputs": [
    {
     "name": "stdout",
     "output_type": "stream",
     "text": [
      "95-й и 99-й процентили числа заказов: [1. 2.]\n"
     ]
    }
   ],
   "source": [
    "print(\n",
    "    '95-й и 99-й процентили числа заказов:', \n",
    "    np.percentile(orders_by_users['orders'], [95, 99])\n",
    ")"
   ]
  },
  {
   "cell_type": "markdown",
   "id": "92b3b2c2-9523-4b6d-b10a-6a0ac54f1802",
   "metadata": {},
   "source": [
    "Всего 1% процент пользователей оформил более 2 заказов, т.е. пользователей с 3 заказами можно будет отсеять."
   ]
  },
  {
   "cell_type": "markdown",
   "id": "0190184d-cac7-4039-91ae-19121a5664e9",
   "metadata": {},
   "source": [
    "##### 4.8. <a id=\"eight\">Стоимость заказов</a> <br>\n",
    "Построим точечный график стоимостей заказов."
   ]
  },
  {
   "cell_type": "code",
   "execution_count": 24,
   "id": "72e6eba0-6264-4de0-80b8-fe8d0a6b7bc2",
   "metadata": {},
   "outputs": [
    {
     "data": {
      "image/png": "[encoded data removed]",
      "text/plain": [
       "<Figure size 640x480 with 1 Axes>"
      ]
     },
     "metadata": {},
     "output_type": "display_data"
    }
   ],
   "source": [
    "# найдем диапазон значений\n",
    "x_values = pd.Series(range(0,len(orders['revenue'])))\n",
    "# построим график\n",
    "plt.scatter(x_values, orders['revenue'])\n",
    "plt.title('Стоимость заказов')\n",
    "plt.ylabel('Сумма заказа');"
   ]
  },
  {
   "cell_type": "markdown",
   "id": "c14ad293-9ff7-45cf-9535-84c9801d8cb5",
   "metadata": {},
   "source": [
    "Стоимость заказа почти никогда не превышает 100 000 р. Скорее всего, граница выбросов будет даже ниже."
   ]
  },
  {
   "cell_type": "markdown",
   "id": "190fb4bf-24a7-49bd-be8e-dc39582d18e9",
   "metadata": {},
   "source": [
    "Построим график для заказов, сумма которых не превышает 100 000 р."
   ]
  },
  {
   "cell_type": "code",
   "execution_count": 25,
   "id": "11e2a49e-3c39-44e8-a182-8437ee27d2fd",
   "metadata": {},
   "outputs": [
    {
     "data": {
      "image/png": "[encoded data removed]",
      "text/plain": [
       "<Figure size 640x480 with 1 Axes>"
      ]
     },
     "metadata": {},
     "output_type": "display_data"
    }
   ],
   "source": [
    "# найдем диапазон значений\n",
    "x_values = pd.Series(range(0,len(orders[orders['revenue'] <= 100000]['revenue'])))\n",
    "# построим график\n",
    "plt.scatter(x_values, orders[orders['revenue'] <= 100000]['revenue'])\n",
    "plt.title('Стоимость заказов')\n",
    "plt.ylabel('Сумма заказа');"
   ]
  },
  {
   "cell_type": "markdown",
   "id": "a9000a19-9390-4ba4-aee8-5c513bfeaf2e",
   "metadata": {},
   "source": [
    "Основная доля заказов совершена на сумму не более 20 000 р., а заказы примерно от 50 000 р. и выше совсем редки. Определим точнее границу выбросов с помощью процентилей."
   ]
  },
  {
   "cell_type": "markdown",
   "id": "e42d6047-8914-4f58-9247-a884c911c60d",
   "metadata": {},
   "source": [
    "##### 4.9. <a id=\"nine\">95-й и 99-й процентили стоимости заказов</a> <br>\n",
    "Чтобы найти границу для определения аномальных заказов, вычислим 95-й и 99-й процентили стоимости заказов."
   ]
  },
  {
   "cell_type": "code",
   "execution_count": 26,
   "id": "be2117e2-082f-4563-a96c-9579238152e6",
   "metadata": {},
   "outputs": [
    {
     "name": "stdout",
     "output_type": "stream",
     "text": [
      "95-й и 99-й процентили стоимости заказов: [26785. 53904.]\n"
     ]
    }
   ],
   "source": [
    "print(\n",
    "    '95-й и 99-й процентили стоимости заказов:', \n",
    "    np.percentile(orders['revenue'], [95, 99])\n",
    ")"
   ]
  },
  {
   "cell_type": "markdown",
   "id": "4956e114-3970-461a-a01a-ed02a1b6c8b6",
   "metadata": {},
   "source": [
    "Не более 5% заказов дороже 26 785 рублей и не более 1% дороже 53 904 рублей. Установим верхнюю границу на уровне 99-го процентиля, так как датасет уже сильно уменьшился после удаления пересекающихся пользователей. При удалении аномальных пользователей экспериментировали с разными процентилями от 95-го до 99-го: абсолютные значения колебались, но значимого влияния на результаты не оказали."
   ]
  },
  {
   "cell_type": "markdown",
   "id": "a7785f5d-30ff-4d06-92fd-252a44a387f2",
   "metadata": {},
   "source": [
    "##### 4.10. <a id=\"ten\">Cтатистическая значимость различий в конверсии между группами по «сырым» данным</a> <br>\n",
    "Посчитаем статистическую значимость различий в среднем количестве заказов на посетителя между группами по «сырым» данным. Сформулируем гипотезы: \n",
    "- нулевая: различий в среднем количестве заказов между группами нет;\n",
    "- альтернативная: различия в среднем между группами есть.<br>\n",
    "\n",
    "Гипотезы здесь и далее будем проверять методом Манна-Уитни (в основном из-за ненормальности распределений) и зададим уровень статистической значимости 5%.</div>"
   ]
  },
  {
   "cell_type": "code",
   "execution_count": 27,
   "id": "b4bba30b-f5ae-4d28-985a-2c592e15d589",
   "metadata": {},
   "outputs": [
    {
     "data": {
      "text/html": [
       "<div>\n",
       "<style scoped>\n",
       "    .dataframe tbody tr th:only-of-type {\n",
       "        vertical-align: middle;\n",
       "    }\n",
       "\n",
       "    .dataframe tbody tr th {\n",
       "        vertical-align: top;\n",
       "    }\n",
       "\n",
       "    .dataframe thead th {\n",
       "        text-align: right;\n",
       "    }\n",
       "</style>\n",
       "<table border=\"1\" class=\"dataframe\">\n",
       "  <thead>\n",
       "    <tr style=\"text-align: right;\">\n",
       "      <th></th>\n",
       "      <th>date</th>\n",
       "      <th>orders_per_date_A</th>\n",
       "      <th>revenue_per_date_A</th>\n",
       "      <th>orders_per_date_B</th>\n",
       "      <th>revenue_per_date_B</th>\n",
       "      <th>orders_cumulative_A</th>\n",
       "      <th>revenue_cumulative_A</th>\n",
       "      <th>orders_cumulative_B</th>\n",
       "      <th>revenue_cumulative_B</th>\n",
       "      <th>visitors_per_date_A</th>\n",
       "      <th>visitors_per_date_B</th>\n",
       "      <th>visitors_cumulative_A</th>\n",
       "      <th>visitors_cumulative_B</th>\n",
       "    </tr>\n",
       "  </thead>\n",
       "  <tbody>\n",
       "    <tr>\n",
       "      <th>0</th>\n",
       "      <td>2019-08-01</td>\n",
       "      <td>23</td>\n",
       "      <td>142779</td>\n",
       "      <td>17</td>\n",
       "      <td>59758</td>\n",
       "      <td>23</td>\n",
       "      <td>142779</td>\n",
       "      <td>17</td>\n",
       "      <td>59758</td>\n",
       "      <td>719</td>\n",
       "      <td>713</td>\n",
       "      <td>719</td>\n",
       "      <td>713</td>\n",
       "    </tr>\n",
       "    <tr>\n",
       "      <th>1</th>\n",
       "      <td>2019-08-02</td>\n",
       "      <td>19</td>\n",
       "      <td>91602</td>\n",
       "      <td>23</td>\n",
       "      <td>162043</td>\n",
       "      <td>42</td>\n",
       "      <td>234381</td>\n",
       "      <td>40</td>\n",
       "      <td>221801</td>\n",
       "      <td>619</td>\n",
       "      <td>581</td>\n",
       "      <td>1338</td>\n",
       "      <td>1294</td>\n",
       "    </tr>\n",
       "    <tr>\n",
       "      <th>2</th>\n",
       "      <td>2019-08-03</td>\n",
       "      <td>24</td>\n",
       "      <td>112473</td>\n",
       "      <td>14</td>\n",
       "      <td>67049</td>\n",
       "      <td>66</td>\n",
       "      <td>346854</td>\n",
       "      <td>54</td>\n",
       "      <td>288850</td>\n",
       "      <td>507</td>\n",
       "      <td>509</td>\n",
       "      <td>1845</td>\n",
       "      <td>1803</td>\n",
       "    </tr>\n",
       "    <tr>\n",
       "      <th>3</th>\n",
       "      <td>2019-08-04</td>\n",
       "      <td>11</td>\n",
       "      <td>41176</td>\n",
       "      <td>14</td>\n",
       "      <td>96890</td>\n",
       "      <td>77</td>\n",
       "      <td>388030</td>\n",
       "      <td>68</td>\n",
       "      <td>385740</td>\n",
       "      <td>717</td>\n",
       "      <td>770</td>\n",
       "      <td>2562</td>\n",
       "      <td>2573</td>\n",
       "    </tr>\n",
       "    <tr>\n",
       "      <th>4</th>\n",
       "      <td>2019-08-05</td>\n",
       "      <td>22</td>\n",
       "      <td>86383</td>\n",
       "      <td>21</td>\n",
       "      <td>89908</td>\n",
       "      <td>99</td>\n",
       "      <td>474413</td>\n",
       "      <td>89</td>\n",
       "      <td>475648</td>\n",
       "      <td>756</td>\n",
       "      <td>707</td>\n",
       "      <td>3318</td>\n",
       "      <td>3280</td>\n",
       "    </tr>\n",
       "  </tbody>\n",
       "</table>\n",
       "</div>"
      ],
      "text/plain": [
       "        date  orders_per_date_A  revenue_per_date_A  orders_per_date_B  \\\n",
       "0 2019-08-01                 23              142779                 17   \n",
       "1 2019-08-02                 19               91602                 23   \n",
       "2 2019-08-03                 24              112473                 14   \n",
       "3 2019-08-04                 11               41176                 14   \n",
       "4 2019-08-05                 22               86383                 21   \n",
       "\n",
       "   revenue_per_date_B  orders_cumulative_A  revenue_cumulative_A  \\\n",
       "0               59758                   23                142779   \n",
       "1              162043                   42                234381   \n",
       "2               67049                   66                346854   \n",
       "3               96890                   77                388030   \n",
       "4               89908                   99                474413   \n",
       "\n",
       "   orders_cumulative_B  revenue_cumulative_B  visitors_per_date_A  \\\n",
       "0                   17                 59758                  719   \n",
       "1                   40                221801                  619   \n",
       "2                   54                288850                  507   \n",
       "3                   68                385740                  717   \n",
       "4                   89                475648                  756   \n",
       "\n",
       "   visitors_per_date_B  visitors_cumulative_A  visitors_cumulative_B  \n",
       "0                  713                    719                    713  \n",
       "1                  581                   1338                   1294  \n",
       "2                  509                   1845                   1803  \n",
       "3                  770                   2562                   2573  \n",
       "4                  707                   3318                   3280  "
      ]
     },
     "execution_count": 27,
     "metadata": {},
     "output_type": "execute_result"
    }
   ],
   "source": [
    "# подготовка данных\n",
    "# найдем количество посетителей в обеих группах по дням и посчитаем их кумулятивный прирост\n",
    "visitors_A_daily = visitors[visitors['group'] == 'A'][['date', 'visitors']]\n",
    "visitors_A_daily.columns = ['date', 'visitors_per_date_A']\n",
    "\n",
    "visitors_A_cumulative = visitors_A_daily.apply(\n",
    "    lambda x: visitors_A_daily[visitors_A_daily['date'] <= x['date']].agg(\n",
    "        {'date': 'max', 'visitors_per_date_A': 'sum'}\n",
    "    ),\n",
    "    axis=1,\n",
    ")\n",
    "visitors_A_cumulative.columns = ['date', 'visitors_cumulative_A']\n",
    "\n",
    "visitors_B_daily = visitors[visitors['group'] == 'B'][['date', 'visitors']]\n",
    "visitors_B_daily.columns = ['date', 'visitors_per_date_B']\n",
    "\n",
    "visitors_B_cumulative = visitors_B_daily.apply(\n",
    "    lambda x: visitors_B_daily[visitors_B_daily['date'] <= x['date']].agg(\n",
    "        {'date': 'max', 'visitors_per_date_B': 'sum'}\n",
    "    ),\n",
    "    axis=1,\n",
    ")\n",
    "visitors_B_cumulative.columns = ['date', 'visitors_cumulative_B']\n",
    "\n",
    "# посчитаем ежедневную и кумулятивную выручку в каждой группе\n",
    "orders_A_daily = (\n",
    "    orders[orders['group'] == 'A'][['date', 'transaction_id', 'visitor_id', 'revenue']]\n",
    "    .groupby('date', as_index=False)\n",
    "    .agg({'transaction_id': pd.Series.nunique, 'revenue': 'sum'})\n",
    ")\n",
    "orders_A_daily.columns = ['date', 'orders_per_date_A', 'revenue_per_date_A']\n",
    "\n",
    "orders_A_cumulative = orders_A_daily.apply(\n",
    "    lambda x: orders_A_daily[orders_A_daily['date'] <= x['date']].agg(\n",
    "        {'date': 'max', 'orders_per_date_A': 'sum', 'revenue_per_date_A': 'sum'}\n",
    "    ),\n",
    "    axis=1,\n",
    ").sort_values(by=['date'])\n",
    "orders_A_cumulative.columns = [\n",
    "    'date',\n",
    "    'orders_cumulative_A',\n",
    "    'revenue_cumulative_A',\n",
    "]\n",
    "\n",
    "orders_B_daily = (\n",
    "    orders[orders['group'] == 'B'][['date', 'transaction_id', 'visitor_id', 'revenue']]\n",
    "    .groupby('date', as_index=False)\n",
    "    .agg({'transaction_id': pd.Series.nunique, 'revenue': 'sum'})\n",
    ")\n",
    "orders_B_daily.columns = ['date', 'orders_per_date_B', 'revenue_per_date_B']\n",
    "\n",
    "orders_B_cumulative = orders_B_daily.apply(\n",
    "    lambda x: orders_B_daily[orders_B_daily['date'] <= x['date']].agg(\n",
    "        {'date': 'max', 'orders_per_date_B': 'sum', 'revenue_per_date_B': 'sum'}\n",
    "    ),\n",
    "    axis=1,\n",
    ").sort_values(by=['date'])\n",
    "orders_B_cumulative.columns = [\n",
    "    'date',\n",
    "    'orders_cumulative_B',\n",
    "    'revenue_cumulative_B',\n",
    "]\n",
    "\n",
    "# объединим полученные датафреймы\n",
    "data = (\n",
    "    orders_A_daily.merge(\n",
    "        orders_B_daily, left_on='date', right_on='date', how='left'\n",
    "    )\n",
    "    .merge(orders_A_cumulative, left_on='date', right_on='date', how='left')\n",
    "    .merge(orders_B_cumulative, left_on='date', right_on='date', how='left')\n",
    "    .merge(visitors_A_daily, left_on='date', right_on='date', how='left')\n",
    "    .merge(visitors_B_daily, left_on='date', right_on='date', how='left')\n",
    "    .merge(visitors_A_cumulative, left_on='date', right_on='date', how='left')\n",
    "    .merge(visitors_B_cumulative, left_on='date', right_on='date', how='left')\n",
    ")\n",
    "# выведем первые строки для проверки\n",
    "data.head(5)"
   ]
  },
  {
   "cell_type": "code",
   "execution_count": 28,
   "id": "59636d66-6c03-4297-bb5d-390bc2b8f62a",
   "metadata": {},
   "outputs": [
    {
     "name": "stdout",
     "output_type": "stream",
     "text": [
      "P-value: 0.011\n",
      "Oтносительный прирост среднего числа заказов группы B: 0.160\n"
     ]
    }
   ],
   "source": [
    "# найдем количество заказов на посетителя в каждой группе\n",
    "orders_by_users_A = (\n",
    "    orders[orders['group'] == 'A']\n",
    "    .groupby('visitor_id', as_index=False)\n",
    "    .agg({'transaction_id': pd.Series.nunique})\n",
    ")\n",
    "orders_by_users_A.columns = ['visitor_id', 'orders']\n",
    "\n",
    "orders_by_users_B = (\n",
    "    orders[orders['group'] == 'B']\n",
    "    .groupby('visitor_id', as_index=False)\n",
    "    .agg({'transaction_id': pd.Series.nunique})\n",
    ")\n",
    "orders_by_users_B.columns = ['visitor_id', 'orders']\n",
    "\n",
    "sample_A = pd.concat(\n",
    "    [\n",
    "        orders_by_users_A['orders'],\n",
    "        pd.Series(\n",
    "            0,\n",
    "            index=np.arange(\n",
    "                data['visitors_per_date_A'].sum() - len(orders_by_users_A['orders'])\n",
    "            ),\n",
    "            name='orders',\n",
    "        ),\n",
    "    ],\n",
    "    axis=0,\n",
    ")\n",
    "\n",
    "sample_B = pd.concat(\n",
    "    [\n",
    "        orders_by_users_B['orders'],\n",
    "        pd.Series(\n",
    "            0,\n",
    "            index=np.arange(\n",
    "                data['visitors_per_date_B'].sum() - len(orders_by_users_B['orders'])\n",
    "            ),\n",
    "            name='orders',\n",
    "        ),\n",
    "    ],\n",
    "    axis=0,\n",
    ")\n",
    "# посчитаем стат.значимость различий в среднем количестве заказов на посетителя между группами \n",
    "# и относительный прирост среднего числа заказов группы B\n",
    "print('P-value:', \"{0:.3f}\".format(st.mannwhitneyu(sample_A, sample_B)[1]))\n",
    "\n",
    "print('Oтносительный прирост среднего числа заказов группы B:', \"{0:.3f}\".format(sample_B.mean() / sample_A.mean() - 1))"
   ]
  },
  {
   "cell_type": "markdown",
   "id": "bf1be998-7027-426a-9f07-46c3ac30e23c",
   "metadata": {},
   "source": [
    "Относительный прирост среднего числа заказов для группы В составляет 16%. При этом p-value в данном случае меньше 0.05. Соответственно, различие в среднем числе заказов между группами по «сырым» данным является статистически значимым. Можно полагать, что в группе В конверсия выше, то есть заказов на посетителя больше."
   ]
  },
  {
   "cell_type": "markdown",
   "id": "11cfda4b-c9b0-4440-b7d7-c9956acd8633",
   "metadata": {},
   "source": [
    "##### 4.11. <a id=\"eleven\">Cтатистическая значимость различий в среднем чеке по «сырым» данным</a> <br>\n",
    "Посчитаем статистическую значимость различий в среднем чеке между группами по «сырым» данным. <br>\n",
    "Нулевая гипотеза: различий в среднем чеке между группами нет. <br>\n",
    "Альтернативная гипотеза: различия в среднем чеке между группами есть."
   ]
  },
  {
   "cell_type": "code",
   "execution_count": 29,
   "id": "bef9272f-c225-4ec0-a52e-e9840d9728eb",
   "metadata": {},
   "outputs": [
    {
     "name": "stdout",
     "output_type": "stream",
     "text": [
      "P-value: 0.829\n",
      "Oтносительные различия в среднем чеке между группами: 0.287\n"
     ]
    }
   ],
   "source": [
    "# рассчитаем статистическую значимость различий в среднем чеке\n",
    "print('P-value:', \n",
    "      '{0:.3f}'.format(st.mannwhitneyu(orders[orders['group']=='A']['revenue'], orders[orders['group']=='B']['revenue'])[1]))\n",
    "# найдем относительные различия в среднем чеке между группами\n",
    "print('Oтносительные различия в среднем чеке между группами:', \n",
    "      '{0:.3f}'.format(orders[orders['group']=='B']['revenue']\n",
    "                       .mean()/orders[orders['group']=='A']['revenue']\n",
    "                       .mean()-1))"
   ]
  },
  {
   "cell_type": "markdown",
   "id": "70348a8f-c4ad-4015-8136-3c0441601120",
   "metadata": {},
   "source": [
    "P-value значительно больше 0.05, что указывает на отсутствие различий в среднем чеке между группами. При этом относительная разница составляет почти 29% в пользу группы В. Вероятно, на средний чек группы В повлияли аномально дорогие заказы. Посмотрим, что поменяется после удаления выбросов."
   ]
  },
  {
   "cell_type": "markdown",
   "id": "508cc8e2-9f84-4817-8722-aaba0e84a06e",
   "metadata": {},
   "source": [
    "##### 4.12. <a id=\"twelve\">Cтатистическая значимость различий в конверсии между группами по «очищенным» данным</a> <br>\n",
    "Посчитаем статистическую значимость различий в среднем количестве заказов на посетителя между группами по «очищенным» данным. Сначала уберем из данных выбросы."
   ]
  },
  {
   "cell_type": "code",
   "execution_count": 30,
   "id": "59c4b9ec-8eb5-4aba-8632-d2a857e7eac8",
   "metadata": {},
   "outputs": [
    {
     "name": "stdout",
     "output_type": "stream",
     "text": [
      "937    148427295\n",
      "33     249864742\n",
      "58     611059232\n",
      "811    887908475\n",
      "632    888512513\n",
      "Name: visitor_id, dtype: int64\n"
     ]
    },
    {
     "data": {
      "text/plain": [
       "16"
      ]
     },
     "execution_count": 30,
     "metadata": {},
     "output_type": "execute_result"
    }
   ],
   "source": [
    "# найдем посетителей с количеством заказов > 2\n",
    "users_with_many_orders = pd.concat(\n",
    "    [\n",
    "        orders_by_users_A[orders_by_users_A['orders'] > np.percentile(orders_by_users['orders'], 99)]['visitor_id'],\n",
    "        orders_by_users_B[orders_by_users_B['orders'] > np.percentile(orders_by_users['orders'], 99)]['visitor_id'],\n",
    "    ],\n",
    "    axis=0,\n",
    ")\n",
    "# найдем посетителей с дорогими заказами\n",
    "users_with_expensive_orders = orders[orders['revenue'] > np.percentile(orders['revenue'], 99)]['visitor_id']\n",
    "# объединим аномальных посетителей в один датафрейм\n",
    "abnormal_users = (\n",
    "    pd.concat([users_with_many_orders, users_with_expensive_orders], axis=0)\n",
    "    .drop_duplicates()\n",
    "    .sort_values()\n",
    ")\n",
    "# выведем первые строки и число аномальных посетителей\n",
    "print(abnormal_users.head(5))\n",
    "abnormal_users.shape[0]"
   ]
  },
  {
   "cell_type": "markdown",
   "id": "2f8c68f3-5e0a-44dc-947b-dd92ac0eefc1",
   "metadata": {},
   "source": [
    "16 посетителей с аномальными значениями. Узнаем, какое влияние они оказали на результаты теста."
   ]
  },
  {
   "cell_type": "code",
   "execution_count": 31,
   "id": "8d5c3c3d-edbc-4959-938d-ee28805b624e",
   "metadata": {},
   "outputs": [
    {
     "name": "stdout",
     "output_type": "stream",
     "text": [
      "P-value: 0.007\n",
      "Oтносительный прирост среднего числа заказов группы B: 0.189\n"
     ]
    }
   ],
   "source": [
    "# уберем из данных аномальных посетителей\n",
    "sample_A_filtered = pd.concat(\n",
    "    [\n",
    "        orders_by_users_A[\n",
    "            np.logical_not(orders_by_users_A['visitor_id'].isin(abnormal_users))\n",
    "        ]['orders'],\n",
    "        pd.Series(\n",
    "            0,\n",
    "            index=np.arange(\n",
    "                data['visitors_per_date_A'].sum() - len(orders_by_users_A['orders'])\n",
    "            ),\n",
    "            name='orders',\n",
    "        ),\n",
    "    ],\n",
    "    axis=0,\n",
    ")\n",
    "\n",
    "sample_B_filtered = pd.concat(\n",
    "    [\n",
    "        orders_by_users_B[\n",
    "            np.logical_not(orders_by_users_B['visitor_id'].isin(abnormal_users))\n",
    "        ]['orders'],\n",
    "        pd.Series(\n",
    "            0,\n",
    "            index=np.arange(\n",
    "                data['visitors_per_date_B'].sum() - len(orders_by_users_B['orders'])\n",
    "            ),\n",
    "            name='orders',\n",
    "        ),\n",
    "    ],\n",
    "    axis=0,\n",
    ")\n",
    "# применим статистический критерий Манна-Уитни к полученным выборкам\n",
    "print('P-value:', '{0:.3f}'.format(st.mannwhitneyu(sample_A_filtered, sample_B_filtered)[1]))\n",
    "print('Oтносительный прирост среднего числа заказов группы B:', \n",
    "      '{0:.3f}'.format(sample_B_filtered.mean()/sample_A_filtered.mean()-1))"
   ]
  },
  {
   "cell_type": "markdown",
   "id": "19a7815b-1fb7-4e1c-bd70-312ca1bbb51d",
   "metadata": {},
   "source": [
    "P-value стал еще меньше, а относительная разница в количестве заказов еще подросла в пользу группы В. То есть в данном случае аномалии хоть и повлияли на результаты теста, но не изменили сути: разница в количестве заказов на посетителя осталась статистически значимой, а посетители из группы В совершают в среднем больше заказов."
   ]
  },
  {
   "cell_type": "markdown",
   "id": "b2c8976a-c724-4e2b-bac3-c7847ad0aaad",
   "metadata": {},
   "source": [
    "##### 4.13. <a id=\"thirteen\">Cтатистическая значимость различий в среднем чеке по «очищенным» данным</a> <br>\n",
    "Посчитаем статистическую значимость различий в среднем чеке между группами по «очищенным» данным."
   ]
  },
  {
   "cell_type": "code",
   "execution_count": 32,
   "id": "385b3e96-d369-4733-aae5-016cacf08b26",
   "metadata": {},
   "outputs": [
    {
     "name": "stdout",
     "output_type": "stream",
     "text": [
      "P-value: 0.788\n",
      "Oтносительные различия в среднем чеке между группами: -0.032\n"
     ]
    }
   ],
   "source": [
    "print(\n",
    "    'P-value:',\n",
    "    '{0:.3f}'.format(\n",
    "        st.mannwhitneyu(\n",
    "            orders[\n",
    "                np.logical_and(\n",
    "                    orders['group'] == 'A',\n",
    "                    np.logical_not(orders['visitor_id'].isin(abnormal_users)),\n",
    "                )\n",
    "            ]['revenue'],\n",
    "            orders[\n",
    "                np.logical_and(\n",
    "                    orders['group'] == 'B',\n",
    "                    np.logical_not(orders['visitor_id'].isin(abnormal_users)),\n",
    "                )\n",
    "            ]['revenue'],\n",
    "        )[1]\n",
    "    )\n",
    ")\n",
    "\n",
    "print(\n",
    "    'Oтносительные различия в среднем чеке между группами:',\n",
    "    \"{0:.3f}\".format(\n",
    "        orders[\n",
    "            np.logical_and(\n",
    "                orders['group'] == 'B',\n",
    "                np.logical_not(orders['visitor_id'].isin(abnormal_users)),\n",
    "            )\n",
    "        ]['revenue'].mean()\n",
    "        / orders[\n",
    "            np.logical_and(\n",
    "                orders['group'] == 'A',\n",
    "                np.logical_not(orders['visitor_id'].isin(abnormal_users)),\n",
    "            )\n",
    "        ]['revenue'].mean()\n",
    "        - 1\n",
    "    )\n",
    ")"
   ]
  },
  {
   "cell_type": "markdown",
   "id": "e9aad7fa-157f-459f-90eb-cfc8c443e3df",
   "metadata": {},
   "source": [
    "В \"очищенных\" данных статистически значимых различий по средним чекам по-прежнему нет. А вот относительная разница между средними чеками сведена практически к нулю.<br>\n",
    "\n",
    "На основании полученных результатов можно заключить, что различий в среднем чеке между группами нет, но в группе В конверсия, т.е. относительное количество заказов, выше. Если цель эксперимента состояла в увеличении выручки, то его можно признать успешным: даже без учета дорогих заказов группа В принесла компании больше денег за счет роста числа заказов на посетителя."
   ]
  },
  {
   "cell_type": "markdown",
   "id": "6bf11f6c-8881-4beb-985d-0befca33166f",
   "metadata": {},
   "source": [
    "#### 5. <a id=\"summary\">Выводы</a>"
   ]
  },
  {
   "cell_type": "markdown",
   "id": "65c59091-bda6-4ab2-88a0-5790359343ed",
   "metadata": {},
   "source": [
    "Мы приоритизировали гипотезы для увеличения выручки интернет-магазина и проанализировали результаты А/В-теста. <br>\n",
    "В ходе приоритизации было подтверждено, что маркетинговые меры, предполагающие больший охват аудитории, дадут более заметный эффект, чем точечные меры, даже если остальные параметры последних выше. <br>\n",
    "Анализ результатов А/В-теста показал, что даже при одинаковом среднем чеке увеличение выручки будет обеспечиваться за счет роста конверсии. <br>\n",
    "Таким образом, тест можно остановить и зафиксировать победу за группой В."
   ]
  }
 ],
 "metadata": {
  "ExecuteTimeLog": [
   {
    "duration": 1266,
    "start_time": "2023-12-17T16:59:03.804Z"
   },
   {
    "duration": 148,
    "start_time": "2023-12-17T16:59:05.072Z"
   },
   {
    "duration": 14,
    "start_time": "2023-12-17T16:59:05.222Z"
   },
   {
    "duration": 31,
    "start_time": "2023-12-17T16:59:05.238Z"
   },
   {
    "duration": 49,
    "start_time": "2023-12-17T16:59:05.271Z"
   },
   {
    "duration": 51,
    "start_time": "2023-12-17T16:59:05.323Z"
   },
   {
    "duration": 37,
    "start_time": "2023-12-17T16:59:05.376Z"
   },
   {
    "duration": 7,
    "start_time": "2023-12-17T16:59:05.415Z"
   },
   {
    "duration": 32,
    "start_time": "2023-12-17T16:59:05.425Z"
   },
   {
    "duration": 184,
    "start_time": "2023-12-17T16:59:05.459Z"
   },
   {
    "duration": 324,
    "start_time": "2023-12-17T16:59:05.644Z"
   },
   {
    "duration": 113,
    "start_time": "2023-12-17T16:59:05.969Z"
   },
   {
    "duration": 16,
    "start_time": "2023-12-17T16:59:06.088Z"
   },
   {
    "duration": 139,
    "start_time": "2023-12-17T16:59:06.105Z"
   },
   {
    "duration": 119,
    "start_time": "2023-12-17T16:59:06.246Z"
   },
   {
    "duration": 0,
    "start_time": "2023-12-17T16:59:06.367Z"
   },
   {
    "duration": 0,
    "start_time": "2023-12-17T16:59:06.369Z"
   },
   {
    "duration": 0,
    "start_time": "2023-12-17T16:59:06.370Z"
   },
   {
    "duration": 0,
    "start_time": "2023-12-17T16:59:06.371Z"
   },
   {
    "duration": 0,
    "start_time": "2023-12-17T16:59:06.372Z"
   },
   {
    "duration": 0,
    "start_time": "2023-12-17T16:59:06.389Z"
   },
   {
    "duration": 0,
    "start_time": "2023-12-17T16:59:06.391Z"
   },
   {
    "duration": 0,
    "start_time": "2023-12-17T16:59:06.392Z"
   },
   {
    "duration": 0,
    "start_time": "2023-12-17T16:59:06.394Z"
   },
   {
    "duration": 0,
    "start_time": "2023-12-17T16:59:06.396Z"
   },
   {
    "duration": 0,
    "start_time": "2023-12-17T16:59:06.397Z"
   },
   {
    "duration": 0,
    "start_time": "2023-12-17T16:59:06.399Z"
   },
   {
    "duration": 0,
    "start_time": "2023-12-17T16:59:06.400Z"
   },
   {
    "duration": 0,
    "start_time": "2023-12-17T16:59:06.402Z"
   },
   {
    "duration": 0,
    "start_time": "2023-12-17T16:59:06.403Z"
   },
   {
    "duration": 0,
    "start_time": "2023-12-17T16:59:06.405Z"
   },
   {
    "duration": 0,
    "start_time": "2023-12-17T16:59:06.405Z"
   },
   {
    "duration": 0,
    "start_time": "2023-12-17T16:59:06.406Z"
   },
   {
    "duration": 0,
    "start_time": "2023-12-17T16:59:06.408Z"
   },
   {
    "duration": 0,
    "start_time": "2023-12-17T16:59:06.410Z"
   },
   {
    "duration": 25,
    "start_time": "2023-12-17T17:03:55.380Z"
   },
   {
    "duration": 24,
    "start_time": "2023-12-17T17:03:56.684Z"
   },
   {
    "duration": 16,
    "start_time": "2023-12-17T17:03:57.684Z"
   },
   {
    "duration": 100,
    "start_time": "2023-12-17T17:03:58.312Z"
   },
   {
    "duration": 1203,
    "start_time": "2023-12-17T17:04:04.151Z"
   },
   {
    "duration": 146,
    "start_time": "2023-12-17T17:04:05.356Z"
   },
   {
    "duration": 13,
    "start_time": "2023-12-17T17:04:05.503Z"
   },
   {
    "duration": 19,
    "start_time": "2023-12-17T17:04:05.518Z"
   },
   {
    "duration": 8,
    "start_time": "2023-12-17T17:04:05.538Z"
   },
   {
    "duration": 38,
    "start_time": "2023-12-17T17:04:05.547Z"
   },
   {
    "duration": 14,
    "start_time": "2023-12-17T17:04:05.587Z"
   },
   {
    "duration": 12,
    "start_time": "2023-12-17T17:04:05.603Z"
   },
   {
    "duration": 32,
    "start_time": "2023-12-17T17:04:05.617Z"
   },
   {
    "duration": 157,
    "start_time": "2023-12-17T17:04:05.652Z"
   },
   {
    "duration": 270,
    "start_time": "2023-12-17T17:04:05.810Z"
   },
   {
    "duration": 97,
    "start_time": "2023-12-17T17:04:06.082Z"
   },
   {
    "duration": 16,
    "start_time": "2023-12-17T17:04:06.188Z"
   },
   {
    "duration": 134,
    "start_time": "2023-12-17T17:04:06.206Z"
   },
   {
    "duration": 108,
    "start_time": "2023-12-17T17:04:06.341Z"
   },
   {
    "duration": 0,
    "start_time": "2023-12-17T17:04:06.452Z"
   },
   {
    "duration": 0,
    "start_time": "2023-12-17T17:04:06.453Z"
   },
   {
    "duration": 1,
    "start_time": "2023-12-17T17:04:06.454Z"
   },
   {
    "duration": 0,
    "start_time": "2023-12-17T17:04:06.456Z"
   },
   {
    "duration": 0,
    "start_time": "2023-12-17T17:04:06.457Z"
   },
   {
    "duration": 0,
    "start_time": "2023-12-17T17:04:06.458Z"
   },
   {
    "duration": 0,
    "start_time": "2023-12-17T17:04:06.460Z"
   },
   {
    "duration": 0,
    "start_time": "2023-12-17T17:04:06.461Z"
   },
   {
    "duration": 0,
    "start_time": "2023-12-17T17:04:06.463Z"
   },
   {
    "duration": 0,
    "start_time": "2023-12-17T17:04:06.464Z"
   },
   {
    "duration": 0,
    "start_time": "2023-12-17T17:04:06.466Z"
   },
   {
    "duration": 0,
    "start_time": "2023-12-17T17:04:06.489Z"
   },
   {
    "duration": 0,
    "start_time": "2023-12-17T17:04:06.490Z"
   },
   {
    "duration": 0,
    "start_time": "2023-12-17T17:04:06.491Z"
   },
   {
    "duration": 0,
    "start_time": "2023-12-17T17:04:06.493Z"
   },
   {
    "duration": 0,
    "start_time": "2023-12-17T17:04:06.494Z"
   },
   {
    "duration": 0,
    "start_time": "2023-12-17T17:04:06.496Z"
   },
   {
    "duration": 0,
    "start_time": "2023-12-17T17:04:06.497Z"
   },
   {
    "duration": 0,
    "start_time": "2023-12-17T17:04:06.498Z"
   },
   {
    "duration": 0,
    "start_time": "2023-12-17T17:04:06.500Z"
   },
   {
    "duration": 27,
    "start_time": "2023-12-17T17:04:13.188Z"
   },
   {
    "duration": 20,
    "start_time": "2023-12-17T17:04:14.108Z"
   },
   {
    "duration": 15,
    "start_time": "2023-12-17T17:04:15.144Z"
   },
   {
    "duration": 99,
    "start_time": "2023-12-17T17:04:15.832Z"
   },
   {
    "duration": 663,
    "start_time": "2023-12-17T17:04:16.740Z"
   },
   {
    "duration": 232,
    "start_time": "2023-12-17T17:04:17.434Z"
   },
   {
    "duration": 167,
    "start_time": "2023-12-17T17:04:18.388Z"
   },
   {
    "duration": 171,
    "start_time": "2023-12-17T17:04:18.636Z"
   },
   {
    "duration": 33,
    "start_time": "2023-12-17T17:04:19.892Z"
   },
   {
    "duration": 43,
    "start_time": "2023-12-17T17:04:20.528Z"
   },
   {
    "duration": 166,
    "start_time": "2023-12-17T17:06:53.380Z"
   },
   {
    "duration": 295,
    "start_time": "2023-12-17T17:06:58.436Z"
   },
   {
    "duration": 3,
    "start_time": "2023-12-17T17:08:03.171Z"
   },
   {
    "duration": 26,
    "start_time": "2023-12-17T17:08:04.655Z"
   },
   {
    "duration": 17,
    "start_time": "2023-12-17T17:08:05.456Z"
   },
   {
    "duration": 6,
    "start_time": "2023-12-17T17:08:36.595Z"
   },
   {
    "duration": 6,
    "start_time": "2023-12-17T17:08:37.931Z"
   },
   {
    "duration": 7,
    "start_time": "2023-12-17T17:08:38.768Z"
   },
   {
    "duration": 1629,
    "start_time": "2023-12-17T17:10:11.047Z"
   },
   {
    "duration": 10,
    "start_time": "2023-12-17T17:10:12.678Z"
   },
   {
    "duration": 1349,
    "start_time": "2023-12-17T17:32:41.403Z"
   },
   {
    "duration": 278,
    "start_time": "2023-12-17T17:32:42.754Z"
   },
   {
    "duration": 14,
    "start_time": "2023-12-17T17:32:43.033Z"
   },
   {
    "duration": 29,
    "start_time": "2023-12-17T17:32:43.048Z"
   },
   {
    "duration": 10,
    "start_time": "2023-12-17T17:32:43.078Z"
   },
   {
    "duration": 9,
    "start_time": "2023-12-17T17:32:43.090Z"
   },
   {
    "duration": 11,
    "start_time": "2023-12-17T17:32:43.101Z"
   },
   {
    "duration": 7,
    "start_time": "2023-12-17T17:32:43.113Z"
   },
   {
    "duration": 10,
    "start_time": "2023-12-17T17:32:43.121Z"
   },
   {
    "duration": 155,
    "start_time": "2023-12-17T17:32:43.134Z"
   },
   {
    "duration": 281,
    "start_time": "2023-12-17T17:32:43.291Z"
   },
   {
    "duration": 98,
    "start_time": "2023-12-17T17:32:43.574Z"
   },
   {
    "duration": 27,
    "start_time": "2023-12-17T17:32:43.674Z"
   },
   {
    "duration": 126,
    "start_time": "2023-12-17T17:32:43.703Z"
   },
   {
    "duration": 103,
    "start_time": "2023-12-17T17:32:43.831Z"
   },
   {
    "duration": 0,
    "start_time": "2023-12-17T17:32:43.936Z"
   },
   {
    "duration": 0,
    "start_time": "2023-12-17T17:32:43.937Z"
   },
   {
    "duration": 0,
    "start_time": "2023-12-17T17:32:43.938Z"
   },
   {
    "duration": 0,
    "start_time": "2023-12-17T17:32:43.939Z"
   },
   {
    "duration": 0,
    "start_time": "2023-12-17T17:32:43.940Z"
   },
   {
    "duration": 0,
    "start_time": "2023-12-17T17:32:43.940Z"
   },
   {
    "duration": 0,
    "start_time": "2023-12-17T17:32:43.941Z"
   },
   {
    "duration": 0,
    "start_time": "2023-12-17T17:32:43.942Z"
   },
   {
    "duration": 0,
    "start_time": "2023-12-17T17:32:43.943Z"
   },
   {
    "duration": 0,
    "start_time": "2023-12-17T17:32:43.944Z"
   },
   {
    "duration": 0,
    "start_time": "2023-12-17T17:32:43.945Z"
   },
   {
    "duration": 0,
    "start_time": "2023-12-17T17:32:43.946Z"
   },
   {
    "duration": 0,
    "start_time": "2023-12-17T17:32:43.947Z"
   },
   {
    "duration": 0,
    "start_time": "2023-12-17T17:32:43.948Z"
   },
   {
    "duration": 0,
    "start_time": "2023-12-17T17:32:43.949Z"
   },
   {
    "duration": 0,
    "start_time": "2023-12-17T17:32:43.950Z"
   },
   {
    "duration": 0,
    "start_time": "2023-12-17T17:32:43.951Z"
   },
   {
    "duration": 0,
    "start_time": "2023-12-17T17:32:43.952Z"
   },
   {
    "duration": 0,
    "start_time": "2023-12-17T17:32:43.953Z"
   },
   {
    "duration": 0,
    "start_time": "2023-12-17T17:32:43.988Z"
   },
   {
    "duration": 488,
    "start_time": "2023-12-17T17:44:18.359Z"
   },
   {
    "duration": 65,
    "start_time": "2023-12-17T17:44:56.524Z"
   },
   {
    "duration": 21,
    "start_time": "2023-12-17T17:45:50.034Z"
   },
   {
    "duration": 44,
    "start_time": "2023-12-17T17:46:21.892Z"
   },
   {
    "duration": 22,
    "start_time": "2023-12-17T17:47:16.595Z"
   },
   {
    "duration": 41,
    "start_time": "2023-12-17T17:49:46.505Z"
   },
   {
    "duration": 38,
    "start_time": "2023-12-17T17:50:23.688Z"
   },
   {
    "duration": 40,
    "start_time": "2023-12-17T17:50:38.017Z"
   },
   {
    "duration": 55,
    "start_time": "2023-12-17T17:51:25.780Z"
   },
   {
    "duration": 52,
    "start_time": "2023-12-17T17:52:48.319Z"
   },
   {
    "duration": 95,
    "start_time": "2023-12-17T17:53:04.323Z"
   },
   {
    "duration": 93,
    "start_time": "2023-12-17T17:53:21.604Z"
   },
   {
    "duration": 183,
    "start_time": "2023-12-17T17:53:41.580Z"
   },
   {
    "duration": 212,
    "start_time": "2023-12-17T17:55:19.800Z"
   },
   {
    "duration": 168,
    "start_time": "2023-12-17T17:56:33.680Z"
   },
   {
    "duration": 204,
    "start_time": "2023-12-17T17:56:55.997Z"
   },
   {
    "duration": 135,
    "start_time": "2023-12-17T17:57:03.456Z"
   },
   {
    "duration": 167,
    "start_time": "2023-12-17T17:57:30.930Z"
   },
   {
    "duration": 134,
    "start_time": "2023-12-17T17:58:31.352Z"
   },
   {
    "duration": 57,
    "start_time": "2023-12-17T18:07:39.228Z"
   },
   {
    "duration": 48,
    "start_time": "2023-12-17T18:11:49.488Z"
   },
   {
    "duration": 47,
    "start_time": "2023-12-17T18:15:11.018Z"
   },
   {
    "duration": 31,
    "start_time": "2023-12-17T18:18:44.102Z"
   },
   {
    "duration": 47,
    "start_time": "2023-12-17T18:19:17.918Z"
   },
   {
    "duration": 52,
    "start_time": "2023-12-17T18:25:36.964Z"
   },
   {
    "duration": 144,
    "start_time": "2023-12-17T18:25:50.114Z"
   },
   {
    "duration": 295,
    "start_time": "2023-12-17T18:26:39.875Z"
   },
   {
    "duration": 168,
    "start_time": "2023-12-17T18:30:46.460Z"
   },
   {
    "duration": 209,
    "start_time": "2023-12-17T18:36:47.719Z"
   },
   {
    "duration": 3,
    "start_time": "2023-12-17T18:37:20.027Z"
   },
   {
    "duration": 28,
    "start_time": "2023-12-17T18:37:26.208Z"
   },
   {
    "duration": 18,
    "start_time": "2023-12-17T18:37:31.396Z"
   },
   {
    "duration": 6,
    "start_time": "2023-12-17T18:37:39.473Z"
   },
   {
    "duration": 5,
    "start_time": "2023-12-17T18:37:51.742Z"
   },
   {
    "duration": 7,
    "start_time": "2023-12-17T18:38:21.048Z"
   },
   {
    "duration": 1712,
    "start_time": "2023-12-17T18:38:48.539Z"
   },
   {
    "duration": 5,
    "start_time": "2023-12-17T18:39:51.006Z"
   },
   {
    "duration": 3,
    "start_time": "2023-12-17T19:06:59.809Z"
   },
   {
    "duration": 2,
    "start_time": "2023-12-17T19:07:52.952Z"
   },
   {
    "duration": 6,
    "start_time": "2023-12-17T19:09:12.616Z"
   },
   {
    "duration": 4,
    "start_time": "2023-12-17T19:10:18.028Z"
   },
   {
    "duration": 1771,
    "start_time": "2023-12-17T19:19:00.692Z"
   },
   {
    "duration": 1159,
    "start_time": "2023-12-17T19:19:26.275Z"
   },
   {
    "duration": 2,
    "start_time": "2023-12-17T19:19:27.436Z"
   },
   {
    "duration": 142,
    "start_time": "2023-12-17T19:19:27.439Z"
   },
   {
    "duration": 12,
    "start_time": "2023-12-17T19:19:27.583Z"
   },
   {
    "duration": 9,
    "start_time": "2023-12-17T19:19:27.597Z"
   },
   {
    "duration": 4,
    "start_time": "2023-12-17T19:19:27.607Z"
   },
   {
    "duration": 9,
    "start_time": "2023-12-17T19:19:27.612Z"
   },
   {
    "duration": 9,
    "start_time": "2023-12-17T19:19:27.622Z"
   },
   {
    "duration": 10,
    "start_time": "2023-12-17T19:19:27.633Z"
   },
   {
    "duration": 5,
    "start_time": "2023-12-17T19:19:27.645Z"
   },
   {
    "duration": 8,
    "start_time": "2023-12-17T19:19:27.688Z"
   },
   {
    "duration": 147,
    "start_time": "2023-12-17T19:19:27.697Z"
   },
   {
    "duration": 279,
    "start_time": "2023-12-17T19:19:27.846Z"
   },
   {
    "duration": 98,
    "start_time": "2023-12-17T19:19:28.127Z"
   },
   {
    "duration": 16,
    "start_time": "2023-12-17T19:19:28.227Z"
   },
   {
    "duration": 126,
    "start_time": "2023-12-17T19:19:28.244Z"
   },
   {
    "duration": 448,
    "start_time": "2023-12-17T19:19:28.371Z"
   },
   {
    "duration": 74,
    "start_time": "2023-12-17T19:19:28.821Z"
   },
   {
    "duration": 111,
    "start_time": "2023-12-17T19:19:28.897Z"
   },
   {
    "duration": 48,
    "start_time": "2023-12-17T19:19:29.010Z"
   },
   {
    "duration": 112,
    "start_time": "2023-12-17T19:19:29.059Z"
   },
   {
    "duration": 185,
    "start_time": "2023-12-17T19:19:29.172Z"
   },
   {
    "duration": 291,
    "start_time": "2023-12-17T19:19:29.358Z"
   },
   {
    "duration": 239,
    "start_time": "2023-12-17T19:19:29.651Z"
   },
   {
    "duration": 183,
    "start_time": "2023-12-17T19:19:29.892Z"
   },
   {
    "duration": 55,
    "start_time": "2023-12-17T19:19:30.076Z"
   },
   {
    "duration": 90,
    "start_time": "2023-12-17T19:19:30.133Z"
   },
   {
    "duration": 195,
    "start_time": "2023-12-17T19:19:30.227Z"
   },
   {
    "duration": 351,
    "start_time": "2023-12-17T19:19:30.423Z"
   },
   {
    "duration": 3,
    "start_time": "2023-12-17T19:19:30.776Z"
   },
   {
    "duration": 67,
    "start_time": "2023-12-17T19:19:30.780Z"
   },
   {
    "duration": 73,
    "start_time": "2023-12-17T19:19:30.848Z"
   },
   {
    "duration": 84,
    "start_time": "2023-12-17T19:19:30.922Z"
   },
   {
    "duration": 30,
    "start_time": "2023-12-17T19:19:31.007Z"
   },
   {
    "duration": 41,
    "start_time": "2023-12-17T19:19:31.038Z"
   },
   {
    "duration": 1677,
    "start_time": "2023-12-17T19:19:31.080Z"
   },
   {
    "duration": 6,
    "start_time": "2023-12-17T19:19:32.758Z"
   },
   {
    "duration": 1407,
    "start_time": "2023-12-18T16:50:29.472Z"
   },
   {
    "duration": 2,
    "start_time": "2023-12-18T16:50:30.881Z"
   },
   {
    "duration": 414,
    "start_time": "2023-12-18T16:50:30.885Z"
   },
   {
    "duration": 14,
    "start_time": "2023-12-18T16:50:31.301Z"
   },
   {
    "duration": 40,
    "start_time": "2023-12-18T16:50:31.317Z"
   },
   {
    "duration": 37,
    "start_time": "2023-12-18T16:50:31.358Z"
   },
   {
    "duration": 44,
    "start_time": "2023-12-18T16:50:31.396Z"
   },
   {
    "duration": 32,
    "start_time": "2023-12-18T16:50:31.442Z"
   },
   {
    "duration": 86,
    "start_time": "2023-12-18T16:50:31.475Z"
   },
   {
    "duration": 33,
    "start_time": "2023-12-18T16:50:31.564Z"
   },
   {
    "duration": 40,
    "start_time": "2023-12-18T16:50:31.599Z"
   },
   {
    "duration": 168,
    "start_time": "2023-12-18T16:50:31.641Z"
   },
   {
    "duration": 297,
    "start_time": "2023-12-18T16:50:31.814Z"
   },
   {
    "duration": 106,
    "start_time": "2023-12-18T16:50:32.113Z"
   },
   {
    "duration": 18,
    "start_time": "2023-12-18T16:50:32.221Z"
   },
   {
    "duration": 140,
    "start_time": "2023-12-18T16:50:32.240Z"
   },
   {
    "duration": 581,
    "start_time": "2023-12-18T16:50:32.382Z"
   },
   {
    "duration": 76,
    "start_time": "2023-12-18T16:50:32.964Z"
   },
   {
    "duration": 114,
    "start_time": "2023-12-18T16:50:33.042Z"
   },
   {
    "duration": 69,
    "start_time": "2023-12-18T16:50:33.158Z"
   },
   {
    "duration": 107,
    "start_time": "2023-12-18T16:50:33.229Z"
   },
   {
    "duration": 189,
    "start_time": "2023-12-18T16:50:33.337Z"
   },
   {
    "duration": 270,
    "start_time": "2023-12-18T16:50:33.528Z"
   },
   {
    "duration": 229,
    "start_time": "2023-12-18T16:50:33.800Z"
   },
   {
    "duration": 217,
    "start_time": "2023-12-18T16:50:34.031Z"
   },
   {
    "duration": 92,
    "start_time": "2023-12-18T16:50:34.249Z"
   },
   {
    "duration": 94,
    "start_time": "2023-12-18T16:50:34.343Z"
   },
   {
    "duration": 202,
    "start_time": "2023-12-18T16:50:34.440Z"
   },
   {
    "duration": 377,
    "start_time": "2023-12-18T16:50:34.644Z"
   },
   {
    "duration": 6,
    "start_time": "2023-12-18T16:50:35.024Z"
   },
   {
    "duration": 163,
    "start_time": "2023-12-18T16:50:35.032Z"
   },
   {
    "duration": 19,
    "start_time": "2023-12-18T16:50:35.197Z"
   },
   {
    "duration": 15,
    "start_time": "2023-12-18T16:50:35.217Z"
   },
   {
    "duration": 13,
    "start_time": "2023-12-18T16:50:35.233Z"
   },
   {
    "duration": 207,
    "start_time": "2023-12-18T16:50:35.248Z"
   },
   {
    "duration": 1871,
    "start_time": "2023-12-18T16:50:35.457Z"
   },
   {
    "duration": 6,
    "start_time": "2023-12-18T16:50:37.329Z"
   },
   {
    "duration": 1147,
    "start_time": "2024-01-10T13:42:48.058Z"
   },
   {
    "duration": 4,
    "start_time": "2024-01-10T13:42:49.206Z"
   },
   {
    "duration": 318,
    "start_time": "2024-01-10T13:42:49.211Z"
   },
   {
    "duration": 20,
    "start_time": "2024-01-10T13:42:49.531Z"
   },
   {
    "duration": 17,
    "start_time": "2024-01-10T13:42:49.553Z"
   },
   {
    "duration": 34,
    "start_time": "2024-01-10T13:42:49.571Z"
   },
   {
    "duration": 23,
    "start_time": "2024-01-10T13:42:49.607Z"
   },
   {
    "duration": 23,
    "start_time": "2024-01-10T13:42:49.632Z"
   },
   {
    "duration": 21,
    "start_time": "2024-01-10T13:42:49.657Z"
   },
   {
    "duration": 25,
    "start_time": "2024-01-10T13:42:49.680Z"
   },
   {
    "duration": 372,
    "start_time": "2024-01-10T13:42:49.707Z"
   },
   {
    "duration": 164,
    "start_time": "2024-01-10T13:42:50.081Z"
   },
   {
    "duration": 291,
    "start_time": "2024-01-10T13:42:50.247Z"
   },
   {
    "duration": 15,
    "start_time": "2024-01-10T13:42:50.542Z"
   },
   {
    "duration": 39,
    "start_time": "2024-01-10T13:42:50.559Z"
   },
   {
    "duration": 312,
    "start_time": "2024-01-10T13:42:50.600Z"
   },
   {
    "duration": 290,
    "start_time": "2024-01-10T13:42:50.914Z"
   },
   {
    "duration": 216,
    "start_time": "2024-01-10T13:42:51.205Z"
   },
   {
    "duration": 280,
    "start_time": "2024-01-10T13:42:51.423Z"
   },
   {
    "duration": 244,
    "start_time": "2024-01-10T13:42:51.705Z"
   },
   {
    "duration": 377,
    "start_time": "2024-01-10T13:42:51.951Z"
   },
   {
    "duration": 156,
    "start_time": "2024-01-10T13:42:52.329Z"
   },
   {
    "duration": 8,
    "start_time": "2024-01-10T13:42:52.487Z"
   },
   {
    "duration": 155,
    "start_time": "2024-01-10T13:42:52.497Z"
   },
   {
    "duration": 139,
    "start_time": "2024-01-10T13:42:52.653Z"
   },
   {
    "duration": 5,
    "start_time": "2024-01-10T13:42:52.793Z"
   },
   {
    "duration": 238,
    "start_time": "2024-01-10T13:42:52.799Z"
   },
   {
    "duration": 202,
    "start_time": "2024-01-10T13:42:53.038Z"
   },
   {
    "duration": 11,
    "start_time": "2024-01-10T13:42:53.243Z"
   },
   {
    "duration": 40,
    "start_time": "2024-01-10T13:42:53.256Z"
   },
   {
    "duration": 43,
    "start_time": "2024-01-10T13:42:53.297Z"
   },
   {
    "duration": 27,
    "start_time": "2024-01-10T13:42:53.342Z"
   }
  ],
  "kernelspec": {
   "display_name": "Python 3 (ipykernel)",
   "language": "python",
   "name": "python3"
  },
  "language_info": {
   "codemirror_mode": {
    "name": "ipython",
    "version": 3
   },
   "file_extension": ".py",
   "mimetype": "text/x-python",
   "name": "python",
   "nbconvert_exporter": "python",
   "pygments_lexer": "ipython3",
   "version": "3.9.5"
  },
  "toc": {
   "base_numbering": 1,
   "nav_menu": {},
   "number_sections": true,
   "sideBar": true,
   "skip_h1_title": true,
   "title_cell": "Table of Contents",
   "title_sidebar": "Contents",
   "toc_cell": false,
   "toc_position": {},
   "toc_section_display": true,
   "toc_window_display": false
  }
 },
 "nbformat": 4,
 "nbformat_minor": 5
}
